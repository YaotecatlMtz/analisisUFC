{
 "cells": [
  {
   "cell_type": "markdown",
   "metadata": {},
   "source": [
    "## Proyecto Peleas UFC"
   ]
  },
  {
   "cell_type": "markdown",
   "metadata": {},
   "source": [
    "### Unidades de observación \n",
    "Las peleas de los diferentes eventos realizados por UFC desde 1994 hasta 2021\n",
    "\n",
    "### Unidad de análisis\n",
    "Análitica y descriptiva principalmente, aunque también se busca ver las posibilidades de una unidad predictiva (digamos para crear un modelo predictivo de resultados)\n",
    "### Justificación de datos\n",
    "Nuestros datos longitudinales ya que tienen \"resultados repetitivos\" a lo largo del tiempo  \n",
    "También porque en varias ocasiones a los sujetos les aplican las mismas mediciones\n",
    "\n",
    "### clasificación de variables/columnas\n",
    "\n",
    "FIGHT_ID – Nominal  \n",
    "EVENT_ID – Nominal  \n",
    "FIGHT_NAME – Nominal  \n",
    "FIGHT_WEIGHTCLASS – Nominal  \n",
    "FIGHT_METHOD – Nominal  \n",
    "ROUND – Ordinal  \n",
    "TIME – Intervalo  \n",
    "FIGHT_TIME_FORMAT – Nominal  \n",
    "FIGHT_REFEREE – Nominal  \n",
    "FIGHT_DETAILS – Nominal  \n",
    "MINUTE - Razón  \n",
    "SECOND - Razón  \n",
    "FIGHT_STUB, EVENT_NAME, EVENT_DATE, EVENT_LOCATION, EVENT_STUB, DATE_YMD, URL – Nominal  \n",
    "FIGHT_WINNER – Nominal \n",
    "\n",
    "## Alta - Baja Cardinalidad (Nominales)\n",
    "\n",
    "FIGHT - Alta\n",
    "\n",
    "EVENT - Alta \n",
    "\n",
    "FightWeight - Baja\n",
    "\n",
    "FightMethod - Alta\n",
    "\n",
    "FightTimeFormat - Baja\n",
    "\n",
    "Fight_Referee - Baja\n",
    "\n",
    "Fight_Details - Alta\n",
    "\n",
    "Fight_Winner - Alta\n",
    "\n",
    "FIGHT_STUB EVENT_NAME, EVENT_DATE, EVENT_LOCATION, EVENT_STUB, DATE_YMD, URL – Alta \n",
    "\n",
    "FIGHT_WINNER – Alta\n",
    "\n",
    "## Categoricos balanceados\n",
    "Round\n",
    "\n",
    "## Categoricos no balanceados\n",
    "FIGHT_ID   \n",
    "EVENT_ID \n",
    "FIGHT_NAME\n",
    "FIGHT_WEIGHTCLASS \n",
    "FIGHT_METHOD  \n",
    "FIGHT_STUB, EVENT_NAME, EVENT_DATE, EVENT_LOCATION, EVENT_STUB, DATE_YMD, URL \n",
    "FIGHT_WINNER \n"
   ]
  },
  {
   "cell_type": "code",
   "execution_count": 45,
   "metadata": {},
   "outputs": [
    {
     "data": {
      "text/plain": [
       "'2.0.3'"
      ]
     },
     "execution_count": 45,
     "metadata": {},
     "output_type": "execute_result"
    }
   ],
   "source": [
    "#Importacion de librerias\n",
    "import numpy as np\n",
    "import pandas as pd\n",
    "pd.__version__\n",
    "import matplotlib.pyplot as plt\n",
    "import seaborn as sns\n",
    "from ipywidgets import interact\n",
    "%matplotlib inline\n",
    "from IPython.core.interactiveshell import InteractiveShell\n",
    "InteractiveShell.ast_node_interactivity = \"all\""
   ]
  },
  {
   "cell_type": "code",
   "execution_count": 46,
   "metadata": {},
   "outputs": [],
   "source": [
    "df = pd.read_csv('ufc-fight-metadata.csv', encoding='utf-8')"
   ]
  },
  {
   "cell_type": "code",
   "execution_count": 47,
   "metadata": {},
   "outputs": [],
   "source": [
    "df_backup = df.copy()\n",
    "# df"
   ]
  },
  {
   "cell_type": "code",
   "execution_count": 48,
   "metadata": {},
   "outputs": [],
   "source": [
    "# Lista de nombres de columnas\n",
    "col = df.columns\n",
    "# col"
   ]
  },
  {
   "cell_type": "code",
   "execution_count": 49,
   "metadata": {},
   "outputs": [
    {
     "name": "stdout",
     "output_type": "stream",
     "text": [
      "<class 'pandas.core.frame.DataFrame'>\n",
      "RangeIndex: 6662 entries, 0 to 6661\n",
      "Data columns (total 20 columns):\n",
      " #   Column             Non-Null Count  Dtype \n",
      "---  ------             --------------  ----- \n",
      " 0   FIGHT_ID           6662 non-null   int64 \n",
      " 1   EVENT_ID           6662 non-null   int64 \n",
      " 2   FIGHT_NAME         6662 non-null   object\n",
      " 3   FIGHT_WEIGHTCLASS  6662 non-null   object\n",
      " 4   FIGHT_METHOD       6662 non-null   object\n",
      " 5   ROUND              6662 non-null   int64 \n",
      " 6   TIME               6662 non-null   object\n",
      " 7   FIGHT_TIME_FORMAT  6662 non-null   object\n",
      " 8   FIGHT_REFEREE      6662 non-null   object\n",
      " 9   FIGHT_DETAILS      6662 non-null   object\n",
      " 10  MINUTE             6662 non-null   int64 \n",
      " 11  SECOND             6662 non-null   int64 \n",
      " 12  FIGHT_STUB         6662 non-null   object\n",
      " 13  EVENT_NAME         6662 non-null   object\n",
      " 14  EVENT_DATE         6662 non-null   object\n",
      " 15  EVENT_LOCATION     6662 non-null   object\n",
      " 16  EVENT_STUB         6662 non-null   object\n",
      " 17  DATE_YMD           6662 non-null   object\n",
      " 18  URL                6662 non-null   object\n",
      " 19  FIGHT_WINNER       6662 non-null   object\n",
      "dtypes: int64(5), object(15)\n",
      "memory usage: 1.0+ MB\n"
     ]
    }
   ],
   "source": [
    "df.info()"
   ]
  },
  {
   "cell_type": "code",
   "execution_count": 50,
   "metadata": {},
   "outputs": [],
   "source": [
    "nominales = ['FIGHT_ID', 'EVENT_ID', 'FIGHT_NAME','FIGHT_WEIGHTCLASS','FIGHT_METHOD','FIGHT_TIME_FORMAT','FIGHT_REFEREE','FIGHT_DETAILS','FIGHT_STUB','EVENT_NAME','EVENT_DATE','EVENT_LOCATION','EVENT_STUB','DATE_YMD','URL','FIGHT_WINNER']\n",
    "ordinales = ['ROUND']  # Pudiera considerarse a karno ordinal pues de un médico a otro el número asignado no es lo mismo\n",
    "intervalo = ['TIME']\n",
    "razon = ['MINUTE', 'SECOND']"
   ]
  },
  {
   "cell_type": "code",
   "execution_count": 51,
   "metadata": {},
   "outputs": [],
   "source": [
    "for i in nominales:\n",
    "    df[i] = df[i].astype('category')\n",
    "    "
   ]
  },
  {
   "cell_type": "code",
   "execution_count": 52,
   "metadata": {},
   "outputs": [
    {
     "name": "stdout",
     "output_type": "stream",
     "text": [
      "FIGHT_ID\n"
     ]
    },
    {
     "data": {
      "text/plain": [
       "[10647, 10651, 10655, 10720, 10724, ..., 15070, 12586, 12587, 13629, 13633]\n",
       "Length: 6662\n",
       "Categories (6662, int64): [9532, 9533, 9534, 9535, ..., 16250, 16251, 16252, 16253]"
      ]
     },
     "execution_count": 52,
     "metadata": {},
     "output_type": "execute_result"
    },
    {
     "name": "stdout",
     "output_type": "stream",
     "text": [
      "\n",
      "EVENT_ID\n"
     ]
    },
    {
     "data": {
      "text/plain": [
       "[1227, 1233, 1243, 1259, 1261, ..., 1267, 1307, 1366, 1426, 1461]\n",
       "Length: 614\n",
       "Categories (614, int64): [1131, 1132, 1133, 1134, ..., 1742, 1743, 1744, 1745]"
      ]
     },
     "execution_count": 52,
     "metadata": {},
     "output_type": "execute_result"
    },
    {
     "name": "stdout",
     "output_type": "stream",
     "text": [
      "\n",
      "FIGHT_NAME\n"
     ]
    },
    {
     "data": {
      "text/plain": [
       "['Glover Teixeira v Nikita Krylov', 'Misha Cirkunov v Jimmy Crute', 'Chas Skelly v Jordan Griffin', 'Cristiane Justino v Felicia Spencer', 'Alexis Davis v Viviane Araujo', ..., 'George Sotiropoulos v Roman Mitichyan', 'Chris Kelades v Chris Beal', 'Shane Campbell v Elias Silverio', 'Sam Stout v James Krause', 'Yves Jabouin v Dustin Pague']\n",
       "Length: 6564\n",
       "Categories (6564, object): ['AJ Fletcher v Ange Loosa', 'Aalon Cruz v Spike Carlyle', 'Aaron Phillips v Matt Hobar', 'Aaron Riley v Joe Brammer', ..., 'Zhang Weili v Rose Namajunas', 'Zubaira Tukhugov v Ernest Chavez', 'Zubaira Tukhugov v Lerone Murphy', 'Zubaira Tukhugov v Phillipe Nover']"
      ]
     },
     "execution_count": 52,
     "metadata": {},
     "output_type": "execute_result"
    },
    {
     "name": "stdout",
     "output_type": "stream",
     "text": [
      "\n",
      "FIGHT_WEIGHTCLASS\n"
     ]
    },
    {
     "data": {
      "text/plain": [
       "['Light Heavyweight', 'Featherweight', 'Women&#039;s Featherweight', 'Women&#039;s Flyweight', 'Women&#039;s Bantamweight', ..., 'Ultimate Fighter 4 Welterweight Tournament Ti..., 'Ultimate Fighter 2 Heavyweight Tournament Title', 'Ultimate Fighter 1 Light Heavyweight Tourname..., 'UFC Interim Flyweight Title', 'Ultimate Fighter Latin America 2 Welterweight...]\n",
       "Length: 109\n",
       "Categories (109, object): ['Bantamweight', 'Catch Weight', 'Featherweight', 'Flyweight', ..., 'Women&#039;s Bantamweight', 'Women&#039;s Featherweight', 'Women&#039;s Flyweight', 'Women&#039;s Strawweight']"
      ]
     },
     "execution_count": 52,
     "metadata": {},
     "output_type": "execute_result"
    },
    {
     "name": "stdout",
     "output_type": "stream",
     "text": [
      "\n",
      "FIGHT_METHOD\n"
     ]
    },
    {
     "data": {
      "text/plain": [
       "['Decision - Split', 'Submission', 'Decision - Unanimous', 'KO/TKO', 'TKO - Doctor&#039;s Stoppage', 'Decision - Majority', 'Overturned', 'DQ', 'Could Not Continue', 'Other']\n",
       "Categories (10, object): ['Could Not Continue', 'DQ', 'Decision - Majority', 'Decision - Split', ..., 'Other', 'Overturned', 'Submission', 'TKO - Doctor&#039;s Stoppage']"
      ]
     },
     "execution_count": 52,
     "metadata": {},
     "output_type": "execute_result"
    },
    {
     "name": "stdout",
     "output_type": "stream",
     "text": [
      "\n",
      "FIGHT_TIME_FORMAT\n"
     ]
    },
    {
     "data": {
      "text/plain": [
       "['3 Rnd (5-5-5)', '5 Rnd (5-5-5-5-5)', '3 Rnd + OT (5-5-5-5)', '1 Rnd + OT (12-3)', '1 Rnd (20)', ..., '1 Rnd + OT (30-3)', '1 Rnd (30)', '1 Rnd + OT (31-5)', 'No Time Limit', '1 Rnd (12)']\n",
       "Length: 19\n",
       "Categories (19, object): ['1 Rnd (10)', '1 Rnd (12)', '1 Rnd (15)', '1 Rnd (18)', ..., '3 Rnd (5-5-5)', '3 Rnd + OT (5-5-5-5)', '5 Rnd (5-5-5-5-5)', 'No Time Limit']"
      ]
     },
     "execution_count": 52,
     "metadata": {},
     "output_type": "execute_result"
    },
    {
     "name": "stdout",
     "output_type": "stream",
     "text": [
      "\n",
      "FIGHT_REFEREE\n"
     ]
    },
    {
     "data": {
      "text/plain": [
       "['Yves Lavigne', 'Wolf Menninger', 'Will Fisher', 'Wernei Cardoso', 'Wayne Spinola', ..., 'Al Wichgers', 'Al Guinee', 'Al Coley', 'Adam Martinez', 'Adam Cheadle']\n",
       "Length: 208\n",
       "Categories (208, object): ['Adam Cheadle', 'Adam Martinez', 'Al Coley', 'Al Guinee', ..., 'Wernei Cardoso', 'Will Fisher', 'Wolf Menninger', 'Yves Lavigne']"
      ]
     },
     "execution_count": 52,
     "metadata": {},
     "output_type": "execute_result"
    },
    {
     "name": "stdout",
     "output_type": "stream",
     "text": [
      "\n",
      "FIGHT_DETAILS\n"
     ]
    },
    {
     "data": {
      "text/plain": [
       "['Decision - Split', 'Peruvian Necktie On Ground', 'Decision', 'Punches to Head From Mount', 'Rear Naked Choke', ..., 'Illegal Inhaler Use by Hardy                 ..., 'Inverted Triangle From Side Control', 'Failed Drug Test by Munhoz', 'Punches to Head From Bottom Guard', 'Failed Drug Test by Shields                  ...]\n",
       "Length: 389\n",
       "Categories (389, object): ['Accidental Eye Poke by O&#039;Malley', 'Accidental Headbutt', 'Anaconda Choke After Drop to Guard', 'Anaconda Choke After Drop to Half Guard', ..., 'to   At Distance       Knee injury', 'to   At Distance       Shoulder Injury', 'to   From Mount       Technical Submission', 'to   On Ground']"
      ]
     },
     "execution_count": 52,
     "metadata": {},
     "output_type": "execute_result"
    },
    {
     "name": "stdout",
     "output_type": "stream",
     "text": [
      "\n",
      "FIGHT_STUB\n"
     ]
    },
    {
     "data": {
      "text/plain": [
       "['glover-teixeira-v-nikita-krylov', 'misha-cirkunov-v-jimmy-crute', 'chas-skelly-v-jordan-griffin', 'cristiane-justino-v-felicia-spencer', 'alexis-davis-v-viviane-araujo', ..., 'george-sotiropoulos-v-roman-mitichyan', 'chris-kelades-v-chris-beal', 'shane-campbell-v-elias-silverio', 'sam-stout-v-james-krause', 'yves-jabouin-v-dustin-pague']\n",
       "Length: 6564\n",
       "Categories (6564, object): ['aalon-cruz-v-spike-carlyle', 'aaron-phillips-v-matt-hobar', 'aaron-riley-v-joe-brammer', 'aaron-riley-v-jorge-gurgel', ..., 'zhang-weili-v-rose-namajunas', 'zubaira-tukhugov-v-ernest-chavez', 'zubaira-tukhugov-v-lerone-murphy', 'zubaira-tukhugov-v-phillipe-nover']"
      ]
     },
     "execution_count": 52,
     "metadata": {},
     "output_type": "execute_result"
    },
    {
     "name": "stdout",
     "output_type": "stream",
     "text": [
      "\n",
      "EVENT_NAME\n"
     ]
    },
    {
     "data": {
      "text/plain": [
       "['UFC Fight Night: Cowboy vs. Gaethje', 'UFC 240: Holloway vs. Edgar', 'UFC Fight Night: Iaquinta vs. Cowboy', 'UFC 231: Holloway vs. Ortega', 'The Ultimate Fighter: Heavy Hitters Finale', ..., 'UFC 229: Khabib vs. McGregor', 'UFC 216: Ferguson vs. Lee', 'UFC on FOX: Teixeira vs Evans', 'UFC Fight Night: MacDonald vs Saffiedine', 'UFC Fight Night: Rockhold vs Philippou']\n",
       "Length: 614\n",
       "Categories (614, object): ['Ortiz vs Shamrock 3: The Final Chapter', 'The Ultimate Fighter: A Champion Will Be Crow..., 'The Ultimate Fighter: A New World Champion Fi..., 'The Ultimate Fighter: American Top Team vs. B..., ..., 'UFC on FX: Johnson vs McCall', 'UFC on FX: Maynard vs Guida', 'UFC on FX: Sotiropoulos vs Pearson', 'UFC: Silva vs Irvin']"
      ]
     },
     "execution_count": 52,
     "metadata": {},
     "output_type": "execute_result"
    },
    {
     "name": "stdout",
     "output_type": "stream",
     "text": [
      "\n",
      "EVENT_DATE\n"
     ]
    },
    {
     "data": {
      "text/plain": [
       "['September 14, 2019', 'July 27, 2019', 'May 04, 2019', 'December 08, 2018', 'November 30, 2018', ..., 'September 21, 2019', 'October 06, 2018', 'October 07, 2017', 'April 16, 2016', 'January 15, 2014']\n",
       "Length: 609\n",
       "Categories (609, object): ['April 01, 2009', 'April 02, 2004', 'April 02, 2008', 'April 04, 2015', ..., 'September 27, 2014', 'September 28, 2001', 'September 28, 2019', 'September 29, 2012']"
      ]
     },
     "execution_count": 52,
     "metadata": {},
     "output_type": "execute_result"
    },
    {
     "name": "stdout",
     "output_type": "stream",
     "text": [
      "\n",
      "EVENT_LOCATION\n"
     ]
    },
    {
     "data": {
      "text/plain": [
       "['Vancouver, British Columbia, Canada', 'Edmonton, Alberta, Canada', 'Ottawa, Ontario, Canada', 'Toronto, Ontario, Canada', 'Las Vegas, Nevada, USA', ..., 'Dothan, Alabama, USA', 'San Juan, Puerto Rico', 'Casper, Wyoming, USA', 'Greenville, South Carolina, USA', 'Duluth, Georgia, USA']\n",
       "Length: 168\n",
       "Categories (168, object): ['Abu Dhabi, Abu Dhabi, United Arab Emirates', 'Abu Dhabi, United Arab Emirates', 'Adelaide, South Australia, Australia', 'Albany, New York, USA', ..., 'Wichita, Kansas, USA', 'Winnipeg, Manitoba, Canada', 'Yokohama, Kanagawa, Japan', 'Zagreb, Croatia']"
      ]
     },
     "execution_count": 52,
     "metadata": {},
     "output_type": "execute_result"
    },
    {
     "name": "stdout",
     "output_type": "stream",
     "text": [
      "\n",
      "EVENT_STUB\n"
     ]
    },
    {
     "data": {
      "text/plain": [
       "['ufc-fight-night-cowboy-vs-gaethje', 'ufc-240-holloway-vs-edgar', 'ufc-fight-night-iaquinta-vs-cowboy', 'ufc-231-holloway-vs-ortega', 'the-ultimate-fighter-heavy-hitters-finale', ..., 'ufc-229-khabib-vs-mcgregor', 'ufc-216-ferguson-vs-lee', 'ufc-on-fox-teixeira-vs-evans', 'ufc-fight-night-macdonald-vs-saffiedine', 'ufc-fight-night-rockhold-vs-philippou']\n",
       "Length: 614\n",
       "Categories (614, object): ['ortiz-vs-shamrock-3-the-final-chapter', 'the-ultimate-fighter-a-champion-will-be-crown..., 'the-ultimate-fighter-a-new-world-champion-fin..., 'the-ultimate-fighter-american-top-team-vs-bla..., ..., 'ufc-on-fx-johnson-vs-mccall', 'ufc-on-fx-maynard-vs-guida', 'ufc-on-fx-sotiropoulos-vs-pearson', 'ufc-silva-vs-irvin']"
      ]
     },
     "execution_count": 52,
     "metadata": {},
     "output_type": "execute_result"
    },
    {
     "name": "stdout",
     "output_type": "stream",
     "text": [
      "\n",
      "DATE_YMD\n"
     ]
    },
    {
     "data": {
      "text/plain": [
       "['14/09/2019', '27/07/2019', '04/05/2019', '08/12/2018', '30/11/2018', ..., '21/09/2019', '06/10/2018', '07/10/2017', '16/04/2016', '15/01/2014']\n",
       "Length: 609\n",
       "Categories (609, object): ['01/01/2011', '01/02/2014', '01/03/2008', '01/03/2014', ..., '31/07/2021', '31/08/2013', '31/08/2019', '31/10/2020']"
      ]
     },
     "execution_count": 52,
     "metadata": {},
     "output_type": "execute_result"
    },
    {
     "name": "stdout",
     "output_type": "stream",
     "text": [
      "\n",
      "URL\n"
     ]
    },
    {
     "data": {
      "text/plain": [
       "['https://vegas-odds.com/ufc-fight-statistics/u..., 'https://vegas-odds.com/ufc-fight-statistics/u..., 'https://vegas-odds.com/ufc-fight-statistics/u..., 'https://vegas-odds.com/ufc-fight-statistics/u..., 'https://vegas-odds.com/ufc-fight-statistics/u..., ..., 'https://vegas-odds.com/ufc-fight-statistics/u..., 'https://vegas-odds.com/ufc-fight-statistics/u..., 'https://vegas-odds.com/ufc-fight-statistics/u..., 'https://vegas-odds.com/ufc-fight-statistics/u..., 'https://vegas-odds.com/ufc-fight-statistics/u...]\n",
       "Length: 6662\n",
       "Categories (6662, object): ['https://vegas-odds.com/ufc-fight-statistics/o..., 'https://vegas-odds.com/ufc-fight-statistics/o..., 'https://vegas-odds.com/ufc-fight-statistics/o..., 'https://vegas-odds.com/ufc-fight-statistics/o..., ..., 'https://vegas-odds.com/ufc-fight-statistics/u..., 'https://vegas-odds.com/ufc-fight-statistics/u..., 'https://vegas-odds.com/ufc-fight-statistics/u..., 'https://vegas-odds.com/ufc-fight-statistics/u...]"
      ]
     },
     "execution_count": 52,
     "metadata": {},
     "output_type": "execute_result"
    },
    {
     "name": "stdout",
     "output_type": "stream",
     "text": [
      "\n",
      "FIGHT_WINNER\n"
     ]
    },
    {
     "data": {
      "text/plain": [
       "['Glover Teixeira', 'Misha Cirkunov', 'Chas Skelly', 'Cristiane Justino', 'Viviane Araujo', ..., 'Christian Morecraft', 'Maxim Grishin', 'David Michaud', 'Michael Kuiper', 'Shane Campbell']\n",
       "Length: 1583\n",
       "Categories (1583, object): ['Aaron Riley', 'Aaron Rosa', 'Aaron Simpson', 'Abdul Razak Alhassan', ..., 'Zhang Lipeng', 'Zhang Tiequan', 'Zhang Weili', 'Zubaira Tukhugov']"
      ]
     },
     "execution_count": 52,
     "metadata": {},
     "output_type": "execute_result"
    },
    {
     "name": "stdout",
     "output_type": "stream",
     "text": [
      "\n",
      "ROUND\n"
     ]
    },
    {
     "data": {
      "text/plain": [
       "array([3, 1, 2, 5, 4], dtype=int64)"
      ]
     },
     "execution_count": 52,
     "metadata": {},
     "output_type": "execute_result"
    },
    {
     "name": "stdout",
     "output_type": "stream",
     "text": [
      "\n"
     ]
    }
   ],
   "source": [
    "for i in nominales + ordinales:\n",
    "    print(i)\n",
    "    df[i].unique()\n",
    "    print()    "
   ]
  },
  {
   "cell_type": "code",
   "execution_count": 53,
   "metadata": {},
   "outputs": [
    {
     "name": "stdout",
     "output_type": "stream",
     "text": [
      "FIGHT_ID\n"
     ]
    },
    {
     "data": {
      "text/plain": [
       "FIGHT_ID\n",
       "9532     1\n",
       "13740    1\n",
       "14024    1\n",
       "14023    1\n",
       "14022    1\n",
       "        ..\n",
       "11777    1\n",
       "11776    1\n",
       "11775    1\n",
       "11774    1\n",
       "16253    1\n",
       "Name: count, Length: 6662, dtype: int64"
      ]
     },
     "execution_count": 53,
     "metadata": {},
     "output_type": "execute_result"
    },
    {
     "name": "stdout",
     "output_type": "stream",
     "text": [
      "\n",
      "EVENT_ID\n"
     ]
    },
    {
     "data": {
      "text/plain": [
       "EVENT_ID\n",
       "1718    15\n",
       "1166    15\n",
       "1143    14\n",
       "1721    14\n",
       "1154    14\n",
       "        ..\n",
       "1701     6\n",
       "1702     6\n",
       "1717     6\n",
       "1691     6\n",
       "1708     6\n",
       "Name: count, Length: 614, dtype: int64"
      ]
     },
     "execution_count": 53,
     "metadata": {},
     "output_type": "execute_result"
    },
    {
     "name": "stdout",
     "output_type": "stream",
     "text": [
      "\n",
      "FIGHT_NAME\n"
     ]
    },
    {
     "data": {
      "text/plain": [
       "FIGHT_NAME\n",
       "Tito Ortiz v Ken Shamrock              3\n",
       "Anthony Pettis v Donald Cerrone        2\n",
       "Don Frye v Mark Hall                   2\n",
       "Sabah Homasi v Abdul Razak Alhassan    2\n",
       "Nik Lentz v Charles Oliveira           2\n",
       "                                      ..\n",
       "Gabriel Benitez v Charlie Ontiveros    1\n",
       "Gabriel Benitez v Billy Quarantillo    1\n",
       "Gabriel Benitez v Andre Fili           1\n",
       "Gabe Green v Phil Rowe                 1\n",
       "Zubaira Tukhugov v Phillipe Nover      1\n",
       "Name: count, Length: 6564, dtype: int64"
      ]
     },
     "execution_count": 53,
     "metadata": {},
     "output_type": "execute_result"
    },
    {
     "name": "stdout",
     "output_type": "stream",
     "text": [
      "\n",
      "FIGHT_WEIGHTCLASS\n"
     ]
    },
    {
     "data": {
      "text/plain": [
       "FIGHT_WEIGHTCLASS\n",
       "Lightweight                                           1119\n",
       "Welterweight                                          1105\n",
       "Middleweight                                           856\n",
       "Featherweight                                          604\n",
       "Heavyweight                                            571\n",
       "                                                      ... \n",
       "Ultimate Fighter 15 Lightweight Tournament Title         1\n",
       "Ultimate Fighter 14 Bantamweight Tournament Title        1\n",
       "Ultimate Fighter 13 Welterweight Tournament Title        1\n",
       "Ultimate Fighter 12 Lightweight Tournament Title         1\n",
       "Ultimate Fighter 14 Featherweight Tournament Title       1\n",
       "Name: count, Length: 109, dtype: int64"
      ]
     },
     "execution_count": 53,
     "metadata": {},
     "output_type": "execute_result"
    },
    {
     "name": "stdout",
     "output_type": "stream",
     "text": [
      "\n",
      "FIGHT_METHOD\n"
     ]
    },
    {
     "data": {
      "text/plain": [
       "FIGHT_METHOD\n",
       "Decision - Unanimous            2339\n",
       "KO/TKO                          2129\n",
       "Submission                      1320\n",
       "Decision - Split                 635\n",
       "Decision - Majority               79\n",
       "TKO - Doctor&#039;s Stoppage      73\n",
       "Overturned                        46\n",
       "Could Not Continue                20\n",
       "DQ                                18\n",
       "Other                              3\n",
       "Name: count, dtype: int64"
      ]
     },
     "execution_count": 53,
     "metadata": {},
     "output_type": "execute_result"
    },
    {
     "name": "stdout",
     "output_type": "stream",
     "text": [
      "\n",
      "FIGHT_TIME_FORMAT\n"
     ]
    },
    {
     "data": {
      "text/plain": [
       "FIGHT_TIME_FORMAT\n",
       "3 Rnd (5-5-5)           5866\n",
       "5 Rnd (5-5-5-5-5)        578\n",
       "1 Rnd + OT (12-3)         79\n",
       "No Time Limit             29\n",
       "3 Rnd + OT (5-5-5-5)      26\n",
       "1 Rnd (20)                21\n",
       "1 Rnd + 2OT (15-3-3)      20\n",
       "2 Rnd (5-5)               13\n",
       "1 Rnd (15)                 8\n",
       "1 Rnd (10)                 6\n",
       "1 Rnd (12)                 4\n",
       "1 Rnd + OT (30-5)          3\n",
       "1 Rnd (18)                 2\n",
       "1 Rnd + OT (15-3)          2\n",
       "1 Rnd + OT (27-3)          1\n",
       "1 Rnd + OT (30-3)          1\n",
       "1 Rnd + OT (31-5)          1\n",
       "1 Rnd + 2OT (24-3-3)       1\n",
       "1 Rnd (30)                 1\n",
       "Name: count, dtype: int64"
      ]
     },
     "execution_count": 53,
     "metadata": {},
     "output_type": "execute_result"
    },
    {
     "name": "stdout",
     "output_type": "stream",
     "text": [
      "\n",
      "FIGHT_REFEREE\n"
     ]
    },
    {
     "data": {
      "text/plain": [
       "FIGHT_REFEREE\n",
       "Herb Dean               998\n",
       "John McCarthy           639\n",
       "Dan Miragliotta         419\n",
       "Mario Yamasaki          392\n",
       "Marc Goddard            391\n",
       "                       ... \n",
       "Tom Jones                 1\n",
       "Ivan Svec                 1\n",
       "Steven Davis              1\n",
       "Brandon Pfannenstiel      1\n",
       "Gabe Barahona             1\n",
       "Name: count, Length: 208, dtype: int64"
      ]
     },
     "execution_count": 53,
     "metadata": {},
     "output_type": "execute_result"
    },
    {
     "name": "stdout",
     "output_type": "stream",
     "text": [
      "\n",
      "FIGHT_DETAILS\n"
     ]
    },
    {
     "data": {
      "text/plain": [
       "FIGHT_DETAILS\n",
       "Decision                                                  2418\n",
       "Decision - Split                                           635\n",
       "Punch to Head At Distance                                  558\n",
       "Rear Naked Choke                                           482\n",
       "Punches to Head At Distance                                272\n",
       "                                                          ... \n",
       "Head Butt by Peralta                                         1\n",
       "Head Butt                                                    1\n",
       "Guillotine Choke From Mount       Technical Submission       1\n",
       "Guillotine Choke From Bottom Side Control                    1\n",
       "to   On Ground                                               1\n",
       "Name: count, Length: 389, dtype: int64"
      ]
     },
     "execution_count": 53,
     "metadata": {},
     "output_type": "execute_result"
    },
    {
     "name": "stdout",
     "output_type": "stream",
     "text": [
      "\n",
      "FIGHT_STUB\n"
     ]
    },
    {
     "data": {
      "text/plain": [
       "FIGHT_STUB\n",
       "tito-ortiz-v-ken-shamrock               3\n",
       "anthony-pettis-v-donald-cerrone         2\n",
       "jacare-souza-v-chris-camozzi            2\n",
       "deiveson-figueiredo-v-brandon-moreno    2\n",
       "matt-serra-v-chris-lytle                2\n",
       "                                       ..\n",
       "gabriel-benitez-v-charlie-ontiveros     1\n",
       "gabriel-benitez-v-billy-quarantillo     1\n",
       "gabriel-benitez-v-andre-fili            1\n",
       "gabe-green-v-phil-rowe                  1\n",
       "zubaira-tukhugov-v-phillipe-nover       1\n",
       "Name: count, Length: 6564, dtype: int64"
      ]
     },
     "execution_count": 53,
     "metadata": {},
     "output_type": "execute_result"
    },
    {
     "name": "stdout",
     "output_type": "stream",
     "text": [
      "\n",
      "EVENT_NAME\n"
     ]
    },
    {
     "data": {
      "text/plain": [
       "EVENT_NAME\n",
       "UFC 259: Blachowicz vs. Adesanya       15\n",
       "UFC 2: No Way Out                      15\n",
       "UFC Fight Night: Chiesa vs. Magny      14\n",
       "UFC Fight Night: Marreta vs. Anders    14\n",
       "UFC 267: Blachowicz vs. Teixeira       14\n",
       "                                       ..\n",
       "UFC 11: The Proving Ground              6\n",
       "UFC - Ultimate Japan                    6\n",
       "UFC 37.5: As Real As It Gets            6\n",
       "UFC 3: The American Dream               6\n",
       "UFC 16: Battle in the Bayou             6\n",
       "Name: count, Length: 614, dtype: int64"
      ]
     },
     "execution_count": 53,
     "metadata": {},
     "output_type": "execute_result"
    },
    {
     "name": "stdout",
     "output_type": "stream",
     "text": [
      "\n",
      "EVENT_DATE\n"
     ]
    },
    {
     "data": {
      "text/plain": [
       "EVENT_DATE\n",
       "November 19, 2016     25\n",
       "October 04, 2014      23\n",
       "May 31, 2014          22\n",
       "August 23, 2014       21\n",
       "June 28, 2014         21\n",
       "                      ..\n",
       "September 20, 1996     6\n",
       "May 07, 2022           6\n",
       "September 09, 1994     6\n",
       "June 22, 2002          6\n",
       "December 21, 1997      6\n",
       "Name: count, Length: 609, dtype: int64"
      ]
     },
     "execution_count": 53,
     "metadata": {},
     "output_type": "execute_result"
    },
    {
     "name": "stdout",
     "output_type": "stream",
     "text": [
      "\n",
      "EVENT_LOCATION\n"
     ]
    },
    {
     "data": {
      "text/plain": [
       "EVENT_LOCATION\n",
       "Las Vegas, Nevada, USA                        2044\n",
       "Abu Dhabi, Abu Dhabi, United Arab Emirates     180\n",
       "London, England, United Kingdom                125\n",
       "Anaheim, California, USA                        95\n",
       "Houston, Texas, USA                             94\n",
       "                                              ... \n",
       "San Juan, Puerto Rico                            8\n",
       "Mobile, Alabama, USA                             8\n",
       "Chiba, Japan                                     7\n",
       "Dothan, Alabama, USA                             7\n",
       "Yokohama, Kanagawa, Japan                        6\n",
       "Name: count, Length: 168, dtype: int64"
      ]
     },
     "execution_count": 53,
     "metadata": {},
     "output_type": "execute_result"
    },
    {
     "name": "stdout",
     "output_type": "stream",
     "text": [
      "\n",
      "EVENT_STUB\n"
     ]
    },
    {
     "data": {
      "text/plain": [
       "EVENT_STUB\n",
       "ufc-2-no-way-out                        15\n",
       "ufc-259-blachowicz-vs-adesanya          15\n",
       "ufc-fight-night-covington-vs-woodley    14\n",
       "ufc-fight-night-blaydes-vs-aspinall     14\n",
       "ufc-fight-night-smith-vs-spann          14\n",
       "                                        ..\n",
       "ufc-274-oliveira-vs-gaethje              6\n",
       "ufc-11-the-proving-ground                6\n",
       "ufc-3-the-american-dream                 6\n",
       "ufc---ultimate-japan                     6\n",
       "ufc-16-battle-in-the-bayou               6\n",
       "Name: count, Length: 614, dtype: int64"
      ]
     },
     "execution_count": 53,
     "metadata": {},
     "output_type": "execute_result"
    },
    {
     "name": "stdout",
     "output_type": "stream",
     "text": [
      "\n",
      "DATE_YMD\n"
     ]
    },
    {
     "data": {
      "text/plain": [
       "DATE_YMD\n",
       "19/11/2016    25\n",
       "04/10/2014    23\n",
       "31/05/2014    22\n",
       "28/06/2014    21\n",
       "23/08/2014    21\n",
       "              ..\n",
       "14/04/2000     6\n",
       "22/06/2002     6\n",
       "20/09/1996     6\n",
       "13/03/1998     6\n",
       "21/12/1997     6\n",
       "Name: count, Length: 609, dtype: int64"
      ]
     },
     "execution_count": 53,
     "metadata": {},
     "output_type": "execute_result"
    },
    {
     "name": "stdout",
     "output_type": "stream",
     "text": [
      "\n",
      "URL\n"
     ]
    },
    {
     "data": {
      "text/plain": [
       "URL\n",
       "https://vegas-odds.com/ufc-fight-statistics/ortiz-vs-shamrock-3-the-final-chapter-1642/jason-macdonald-v-ed-herman-15325/             1\n",
       "https://vegas-odds.com/ufc-fight-statistics/ufc-fight-night-figueiredo-vs-benavidez-2-1196/roman-dolidze-v-khadis-ibragimov-10284/    1\n",
       "https://vegas-odds.com/ufc-fight-statistics/ufc-fight-night-holm-vs-correia-1319/dong-hyun-kim-v-colby-covington-11757/               1\n",
       "https://vegas-odds.com/ufc-fight-statistics/ufc-fight-night-holm-vs-correia-1319/cyril-asker-v-walt-harris-11760/                     1\n",
       "https://vegas-odds.com/ufc-fight-statistics/ufc-fight-night-holm-vs-correia-1319/andrei-arlovski-v-marcin-tybura-11756/               1\n",
       "                                                                                                                                     ..\n",
       "https://vegas-odds.com/ufc-fight-statistics/ufc-258-usman-vs-burns-1169/polyana-viana-v-mallory-martin-9991/                          1\n",
       "https://vegas-odds.com/ufc-fight-statistics/ufc-258-usman-vs-burns-1169/maycee-barber-v-alexa-grasso-9985/                            1\n",
       "https://vegas-odds.com/ufc-fight-statistics/ufc-258-usman-vs-burns-1169/maki-pitolo-v-julian-marquez-9988/                            1\n",
       "https://vegas-odds.com/ufc-fight-statistics/ufc-258-usman-vs-burns-1169/kelvin-gastelum-v-ian-heinisch-9986/                          1\n",
       "https://vegas-odds.com/ufc-fight-statistics/ufc-silva-vs-irvin-1607/tim-credeur-v-cale-yarbrough-15003/                               1\n",
       "Name: count, Length: 6662, dtype: int64"
      ]
     },
     "execution_count": 53,
     "metadata": {},
     "output_type": "execute_result"
    },
    {
     "name": "stdout",
     "output_type": "stream",
     "text": [
      "\n",
      "FIGHT_WINNER\n"
     ]
    },
    {
     "data": {
      "text/plain": [
       "FIGHT_WINNER\n",
       "Jim Miller          23\n",
       "Donald Cerrone      23\n",
       "Demian Maia         22\n",
       "Charles Oliveira    22\n",
       "Jon Jones           21\n",
       "                    ..\n",
       "Darrell Horcher      1\n",
       "Mads Burnell         1\n",
       "Jarjis Danho         1\n",
       "Jared Vanderaa       1\n",
       "Junior Albini        1\n",
       "Name: count, Length: 1583, dtype: int64"
      ]
     },
     "execution_count": 53,
     "metadata": {},
     "output_type": "execute_result"
    },
    {
     "name": "stdout",
     "output_type": "stream",
     "text": [
      "\n",
      "ROUND\n"
     ]
    },
    {
     "data": {
      "text/plain": [
       "ROUND\n",
       "3    3353\n",
       "1    1932\n",
       "2    1102\n",
       "5     237\n",
       "4      38\n",
       "Name: count, dtype: int64"
      ]
     },
     "execution_count": 53,
     "metadata": {},
     "output_type": "execute_result"
    },
    {
     "name": "stdout",
     "output_type": "stream",
     "text": [
      "\n"
     ]
    }
   ],
   "source": [
    "for i in nominales + ordinales:\n",
    "    print(i)\n",
    "    df[i].value_counts()\n",
    "    print()"
   ]
  },
  {
   "cell_type": "markdown",
   "metadata": {},
   "source": [
    "### Esto lo hizo jp  \n",
    "             |  \n",
    "             |  \n",
    "             |  \n",
    "             v  "
   ]
  },
  {
   "cell_type": "code",
   "execution_count": 54,
   "metadata": {},
   "outputs": [
    {
     "name": "stdout",
     "output_type": "stream",
     "text": [
      "Moda de la columna FIGHT_ID: 9532\n",
      "Moda de la columna EVENT_ID: 1166\n",
      "Moda de la columna FIGHT_NAME: Tito Ortiz v Ken Shamrock\n",
      "Moda de la columna FIGHT_WEIGHTCLASS: Lightweight\n",
      "Moda de la columna FIGHT_METHOD: Decision - Unanimous\n",
      "Moda de la columna FIGHT_TIME_FORMAT: 3 Rnd (5-5-5)\n",
      "Moda de la columna FIGHT_REFEREE: Herb Dean\n",
      "Moda de la columna FIGHT_DETAILS: Decision\n",
      "Moda de la columna FIGHT_STUB: tito-ortiz-v-ken-shamrock\n",
      "Moda de la columna EVENT_NAME: UFC 259: Blachowicz vs. Adesanya\n",
      "Moda de la columna EVENT_DATE: November 19, 2016\n",
      "Moda de la columna EVENT_LOCATION: Las Vegas, Nevada, USA\n",
      "Moda de la columna EVENT_STUB: ufc-2-no-way-out\n",
      "Moda de la columna DATE_YMD: 19/11/2016\n",
      "Moda de la columna URL: https://vegas-odds.com/ufc-fight-statistics/ortiz-vs-shamrock-3-the-final-chapter-1642/jason-macdonald-v-ed-herman-15325/\n",
      "Moda de la columna FIGHT_WINNER: Donald Cerrone\n"
     ]
    }
   ],
   "source": [
    "\n",
    "for i in nominales:\n",
    "    moda = df[i].mode()[0]\n",
    "    print(f\"Moda de la columna {i}: {moda}\")"
   ]
  },
  {
   "cell_type": "code",
   "execution_count": 55,
   "metadata": {},
   "outputs": [
    {
     "name": "stdout",
     "output_type": "stream",
     "text": [
      "3\n",
      "3.0\n"
     ]
    }
   ],
   "source": [
    "moda = df['ROUND'].mode().iloc[0]\n",
    "median = df['ROUND'].median()\n",
    "print(moda)\n",
    "print(median)\n"
   ]
  },
  {
   "cell_type": "code",
   "execution_count": 56,
   "metadata": {},
   "outputs": [
    {
     "name": "stdout",
     "output_type": "stream",
     "text": [
      "MINUTE\n",
      "Media : 4.0\n",
      "Mode :  5\n",
      "D.E :  1.8354891874638155\n",
      "First Quartile (Q1): 2.0\n",
      "Third Quartile (Q3): 5.0\n",
      "Interquartile Range (IQR): 3.0\n",
      "SECOND\n",
      "Media : 3.0\n",
      "Mode :  0\n",
      "D.E :  19.726635399063216\n",
      "First Quartile (Q1): 0.0\n",
      "Third Quartile (Q3): 32.0\n",
      "Interquartile Range (IQR): 32.0\n"
     ]
    }
   ],
   "source": [
    "for i in razon: \n",
    "    print(i)\n",
    "    median = df[i].median()\n",
    "    mode = df[i].mode().iloc[0]\n",
    "    de = df[i].std()\n",
    "    q1 = np.percentile(df[i], 25)\n",
    "    q3 = np.percentile(df[i], 75)\n",
    "    iqr = q3 - q1\n",
    "    print(\"Media :\", median)\n",
    "    print(\"Mode : \", mode)\n",
    "    print(\"D.E : \", de)\n",
    "    print(\"First Quartile (Q1):\", q1)\n",
    "    print(\"Third Quartile (Q3):\", q3)\n",
    "    print(\"Interquartile Range (IQR):\", iqr)\n",
    "\n",
    "\n",
    "\n"
   ]
  },
  {
   "cell_type": "code",
   "execution_count": 58,
   "metadata": {},
   "outputs": [
    {
     "name": "stdout",
     "output_type": "stream",
     "text": [
      "Median: 287.0\n",
      "Mode: 0    300\n",
      "Name: TIME, dtype: int64\n",
      "Standard Deviation: 99.12629396653747\n",
      "Interquartilic Range:  152.0\n"
     ]
    }
   ],
   "source": [
    "df.TIME = df['TIME'].str.split(':').apply(lambda x: int(x[0]) * 60 + int(x[1]))\n",
    "# Calcula la mediana, moda y desviación estándar\n",
    "median = df['TIME'].median()\n",
    "mode = df['TIME'].mode()\n",
    "std = df['TIME'].std()\n",
    "\n",
    "# Calcula los cuartiles\n",
    "q1 = df['TIME'].quantile(0.25)\n",
    "q3 = df['TIME'].quantile(0.75)\n",
    "iqr = q3 - q1\n",
    "print(\"Median:\", median)\n",
    "print(\"Mode:\", mode)\n",
    "print(\"Standard Deviation:\", std)\n",
    "print(\"Interquartilic Range: \", iqr)\n",
    "\n"
   ]
  },
  {
   "cell_type": "markdown",
   "metadata": {},
   "source": [
    "Estadistica descriptiva de las columnas (Algunas omitidas como URL y STUBS)\n",
    "\n",
    "FIGHT_ID - Moda: 9532  \n",
    "\n",
    "EVENT_ID – Moda: 1166 \n",
    "\n",
    "FIGHT_NAME  -Moda: JIM MILLER\n",
    "\n",
    "FIGHT_WEIGHTCLASS Moda: LIGHTWEIGHT\n",
    "\n",
    "FIGHT_METHOD –Moda: DECISION UNANIMOUS\n",
    "\n",
    "ROUND – Media: 3 - Mediana: 3\n",
    "\n",
    "TIME – Media: 287 - Moda: 300 - DE: 99.15009 - Rango Interquartilico: 152\n",
    "\n",
    "FIGHT_TIME_FORMAT -Moda: 3RND (5-5-5)  \n",
    "\n",
    "FIGHT_REFEREE – Moda: HERB DEAN\n",
    "\n",
    "FIGHT_DETAILS – Moda: DECISION\n",
    "\n",
    "MINUTE - Media: 4 - Moda: 5 - D.E: 1.83564 - RANGO INTERQUARTILICO: 32\n",
    "\n",
    "SECOND - Media: 3 - Moda: no - D.E: 19.7326 - Rango: 32\n",
    "\n",
    "EVENT_NAME - Moda: UFC 259: Blachowicz vs. Adesanya\n",
    "\n",
    "EVENT_DATE - Moda: November 19,2016\n",
    "\n",
    "EVENT_LOCATION - Moda: Las Vegas, Nevada, USA\n",
    "\n",
    "DATE_YMD - Moda: 19/11/2016    \n",
    "\n",
    "FIGHT_WINNER – Moda: DONALD CERRONE"
   ]
  },
  {
   "cell_type": "markdown",
   "metadata": {},
   "source": [
    "## Esto lo hizo Yaotecatl Martinez"
   ]
  },
  {
   "cell_type": "code",
   "execution_count": 77,
   "metadata": {},
   "outputs": [
    {
     "data": {
      "text/plain": [
       "<BarContainer object of 15 artists>"
      ]
     },
     "execution_count": 77,
     "metadata": {},
     "output_type": "execute_result"
    },
    {
     "data": {
      "text/plain": [
       "Text(0.5, 0, 'Numero de round')"
      ]
     },
     "execution_count": 77,
     "metadata": {},
     "output_type": "execute_result"
    },
    {
     "data": {
      "text/plain": [
       "([0, 1, 2, 3, 4, 5, 6, 7, 8, 9, 10, 11, 12, 13, 14],\n",
       " [Text(0, 0, 'Lightweight'),\n",
       "  Text(1, 0, 'Welterweight'),\n",
       "  Text(2, 0, 'Middleweight'),\n",
       "  Text(3, 0, 'Featherweight'),\n",
       "  Text(4, 0, 'Heavyweight'),\n",
       "  Text(5, 0, 'Light Heavyweight'),\n",
       "  Text(6, 0, 'Bantamweight'),\n",
       "  Text(7, 0, 'Flyweight'),\n",
       "  Text(8, 0, 'Women&#039;s Strawweight'),\n",
       "  Text(9, 0, 'Women&#039;s Flyweight'),\n",
       "  Text(10, 0, 'Women&#039;s Bantamweight'),\n",
       "  Text(11, 0, 'Open Weight'),\n",
       "  Text(12, 0, 'Catch Weight'),\n",
       "  Text(13, 0, 'UFC Light Heavyweight Title'),\n",
       "  Text(14, 0, 'UFC Welterweight Title')])"
      ]
     },
     "execution_count": 77,
     "metadata": {},
     "output_type": "execute_result"
    },
    {
     "data": {
      "text/plain": [
       "Text(0, 0.5, 'Numero de peleas')"
      ]
     },
     "execution_count": 77,
     "metadata": {},
     "output_type": "execute_result"
    },
    {
     "data": {
      "text/plain": [
       "Text(0.5, 1.0, 'Round de finalizacion de las peleas')"
      ]
     },
     "execution_count": 77,
     "metadata": {},
     "output_type": "execute_result"
    },
    {
     "data": {
      "image/png": "[encoded data removed]",
      "text/plain": [
       "<Figure size 640x480 with 1 Axes>"
      ]
     },
     "metadata": {},
     "output_type": "display_data"
    }
   ],
   "source": [
    "weightClass = df['FIGHT_WEIGHTCLASS'].value_counts()\n",
    "weightClass = weightClass.head(15)\n",
    "plt.bar(weightClass.index, weightClass.values)\n",
    "plt.xlabel('Categoria')\n",
    "plt.xticks(rotation=90)\n",
    "plt.ylabel('Numero de peleas')\n",
    "plt.title('top 15 Peleas por categoria')\n",
    "plt.show()"
   ]
  },
  {
   "cell_type": "code",
   "execution_count": 70,
   "metadata": {},
   "outputs": [
    {
     "data": {
      "text/plain": [
       "<BarContainer object of 5 artists>"
      ]
     },
     "execution_count": 70,
     "metadata": {},
     "output_type": "execute_result"
    },
    {
     "data": {
      "text/plain": [
       "Text(0.5, 0, 'Numero de round')"
      ]
     },
     "execution_count": 70,
     "metadata": {},
     "output_type": "execute_result"
    },
    {
     "data": {
      "text/plain": [
       "Text(0, 0.5, 'Numero de peleas')"
      ]
     },
     "execution_count": 70,
     "metadata": {},
     "output_type": "execute_result"
    },
    {
     "data": {
      "text/plain": [
       "Text(0.5, 1.0, 'Round de finalizacion de las peleas')"
      ]
     },
     "execution_count": 70,
     "metadata": {},
     "output_type": "execute_result"
    },
    {
     "data": {
      "image/png": "[encoded data removed]",
      "text/plain": [
       "<Figure size 640x480 with 1 Axes>"
      ]
     },
     "metadata": {},
     "output_type": "display_data"
    }
   ],
   "source": [
    "round = df['ROUND'].value_counts()\n",
    "\n",
    "plt.bar(round.index, round.values)\n",
    "plt.xlabel('Numero de round')\n",
    "plt.ylabel('Numero de peleas')\n",
    "plt.title('Round de finalizacion de las peleas')\n",
    "plt.show()"
   ]
  },
  {
   "cell_type": "code",
   "execution_count": 78,
   "metadata": {},
   "outputs": [
    {
     "data": {
      "text/plain": [
       "<BarContainer object of 10 artists>"
      ]
     },
     "execution_count": 78,
     "metadata": {},
     "output_type": "execute_result"
    },
    {
     "data": {
      "text/plain": [
       "([0, 1, 2, 3, 4, 5, 6, 7, 8, 9],\n",
       " [Text(0, 0, 'Herb Dean'),\n",
       "  Text(1, 0, 'John McCarthy'),\n",
       "  Text(2, 0, 'Dan Miragliotta'),\n",
       "  Text(3, 0, 'Mario Yamasaki'),\n",
       "  Text(4, 0, 'Marc Goddard'),\n",
       "  Text(5, 0, 'Chris Tognoni'),\n",
       "  Text(6, 0, 'Yves Lavigne'),\n",
       "  Text(7, 0, 'Keith Peterson'),\n",
       "  Text(8, 0, 'Jason Herzog'),\n",
       "  Text(9, 0, 'Mark Smith')])"
      ]
     },
     "execution_count": 78,
     "metadata": {},
     "output_type": "execute_result"
    },
    {
     "data": {
      "text/plain": [
       "Text(0.5, 0, 'Nombre')"
      ]
     },
     "execution_count": 78,
     "metadata": {},
     "output_type": "execute_result"
    },
    {
     "data": {
      "text/plain": [
       "Text(0, 0.5, 'Peleas arbitradas')"
      ]
     },
     "execution_count": 78,
     "metadata": {},
     "output_type": "execute_result"
    },
    {
     "data": {
      "text/plain": [
       "Text(0.5, 1.0, 'Arbitros con mas peleas')"
      ]
     },
     "execution_count": 78,
     "metadata": {},
     "output_type": "execute_result"
    },
    {
     "data": {
      "image/png": "[encoded data removed]",
      "text/plain": [
       "<Figure size 640x480 with 1 Axes>"
      ]
     },
     "metadata": {},
     "output_type": "display_data"
    }
   ],
   "source": [
    "frecuencia = df['FIGHT_REFEREE'].value_counts()\n",
    "top10Winners = frecuencia.head(10)\n",
    "\n",
    "plt.bar(top10Winners.index, top10Winners.values)\n",
    "plt.xticks(rotation=90)\n",
    "\n",
    "plt.xlabel('Nombre')\n",
    "plt.ylabel('Peleas arbitradas')\n",
    "plt.title('Arbitros con mas peleas')\n",
    "\n",
    "plt.show()"
   ]
  },
  {
   "cell_type": "code",
   "execution_count": 80,
   "metadata": {},
   "outputs": [
    {
     "data": {
      "text/plain": [
       "<BarContainer object of 10 artists>"
      ]
     },
     "execution_count": 80,
     "metadata": {},
     "output_type": "execute_result"
    },
    {
     "data": {
      "text/plain": [
       "([0, 1, 2, 3, 4, 5, 6, 7, 8, 9],\n",
       " [Text(0, 0, 'Decision'),\n",
       "  Text(1, 0, 'Decision - Split'),\n",
       "  Text(2, 0, 'Punch to Head At Distance'),\n",
       "  Text(3, 0, 'Rear Naked Choke'),\n",
       "  Text(4, 0, 'Punches to Head At Distance'),\n",
       "  Text(5, 0, 'Punches to Head On Ground'),\n",
       "  Text(6, 0, 'Punch to Head In Clinch'),\n",
       "  Text(7, 0, 'Kick to Head At Distance'),\n",
       "  Text(8, 0, 'Punches to Head From Mount'),\n",
       "  Text(9, 0, 'Punches to Head From Back Control')])"
      ]
     },
     "execution_count": 80,
     "metadata": {},
     "output_type": "execute_result"
    },
    {
     "data": {
      "text/plain": [
       "Text(0.5, 0, 'Tipo de victoria')"
      ]
     },
     "execution_count": 80,
     "metadata": {},
     "output_type": "execute_result"
    },
    {
     "data": {
      "text/plain": [
       "Text(0, 0.5, 'Cantidad')"
      ]
     },
     "execution_count": 80,
     "metadata": {},
     "output_type": "execute_result"
    },
    {
     "data": {
      "text/plain": [
       "Text(0.5, 1.0, 'Victorias mas comunes')"
      ]
     },
     "execution_count": 80,
     "metadata": {},
     "output_type": "execute_result"
    },
    {
     "data": {
      "image/png": "[encoded data removed]",
      "text/plain": [
       "<Figure size 640x480 with 1 Axes>"
      ]
     },
     "metadata": {},
     "output_type": "display_data"
    }
   ],
   "source": [
    "fightDetails = df['FIGHT_DETAILS'].value_counts()\n",
    "topFightEndUp = fightDetails.head(10)\n",
    "plt.bar(topFightEndUp.index, topFightEndUp.values)\n",
    "plt.xticks(rotation=90)\n",
    "\n",
    "plt.xlabel('Tipo de victoria')\n",
    "plt.ylabel('Cantidad')\n",
    "plt.title('Victorias mas comunes')\n",
    "\n",
    "plt.show()"
   ]
  },
  {
   "cell_type": "code",
   "execution_count": 81,
   "metadata": {},
   "outputs": [
    {
     "data": {
      "text/plain": [
       "<BarContainer object of 10 artists>"
      ]
     },
     "execution_count": 81,
     "metadata": {},
     "output_type": "execute_result"
    },
    {
     "data": {
      "text/plain": [
       "([0, 1, 2, 3, 4, 5, 6, 7, 8, 9],\n",
       " [Text(0, 0, 'Jim Miller'),\n",
       "  Text(1, 0, 'Donald Cerrone'),\n",
       "  Text(2, 0, 'Demian Maia'),\n",
       "  Text(3, 0, 'Charles Oliveira'),\n",
       "  Text(4, 0, 'Jon Jones'),\n",
       "  Text(5, 0, 'Andrei Arlovski'),\n",
       "  Text(6, 0, 'Rafael Dos Anjos'),\n",
       "  Text(7, 0, 'Dustin Poirier'),\n",
       "  Text(8, 0, 'Georges St-Pierre'),\n",
       "  Text(9, 0, 'Michael Bisping')])"
      ]
     },
     "execution_count": 81,
     "metadata": {},
     "output_type": "execute_result"
    },
    {
     "data": {
      "text/plain": [
       "Text(0.5, 0, 'Nombre')"
      ]
     },
     "execution_count": 81,
     "metadata": {},
     "output_type": "execute_result"
    },
    {
     "data": {
      "text/plain": [
       "Text(0, 0.5, 'Numero de peleas')"
      ]
     },
     "execution_count": 81,
     "metadata": {},
     "output_type": "execute_result"
    },
    {
     "data": {
      "text/plain": [
       "Text(0.5, 1.0, 'Peleadores con mas victorias')"
      ]
     },
     "execution_count": 81,
     "metadata": {},
     "output_type": "execute_result"
    },
    {
     "data": {
      "image/png": "[encoded data removed]",
      "text/plain": [
       "<Figure size 640x480 with 1 Axes>"
      ]
     },
     "metadata": {},
     "output_type": "display_data"
    }
   ],
   "source": [
    "winnerFrequency = df['FIGHT_WINNER'].value_counts()\n",
    "top_10_modas = winnerFrequency.head(10)\n",
    "\n",
    "plt.bar(top_10_modas.index, top_10_modas.values)\n",
    "plt.xticks(rotation=90)\n",
    "plt.xlabel('Nombre')\n",
    "plt.ylabel('Numero de peleas')\n",
    "plt.title('Peleadores con mas victorias')\n",
    "\n",
    "plt.show()"
   ]
  },
  {
   "cell_type": "code",
   "execution_count": 65,
   "metadata": {},
   "outputs": [
    {
     "data": {
      "text/plain": [
       "<BarContainer object of 19 artists>"
      ]
     },
     "execution_count": 65,
     "metadata": {},
     "output_type": "execute_result"
    },
    {
     "data": {
      "text/plain": [
       "Text(0.5, 0, 'Formato de pelea')"
      ]
     },
     "execution_count": 65,
     "metadata": {},
     "output_type": "execute_result"
    },
    {
     "data": {
      "text/plain": [
       "Text(0, 0.5, 'Peleas con dicho formato')"
      ]
     },
     "execution_count": 65,
     "metadata": {},
     "output_type": "execute_result"
    },
    {
     "data": {
      "text/plain": [
       "Text(0.5, 1.0, 'Formato de peleas')"
      ]
     },
     "execution_count": 65,
     "metadata": {},
     "output_type": "execute_result"
    },
    {
     "data": {
      "text/plain": [
       "([0, 1, 2, 3, 4, 5, 6, 7, 8, 9, 10, 11, 12, 13, 14, 15, 16, 17, 18],\n",
       " [Text(0, 0, '3 Rnd (5-5-5)'),\n",
       "  Text(1, 0, '5 Rnd (5-5-5-5-5)'),\n",
       "  Text(2, 0, '1 Rnd + OT (12-3)'),\n",
       "  Text(3, 0, 'No Time Limit'),\n",
       "  Text(4, 0, '3 Rnd + OT (5-5-5-5)'),\n",
       "  Text(5, 0, '1 Rnd (20)'),\n",
       "  Text(6, 0, '1 Rnd + 2OT (15-3-3)'),\n",
       "  Text(7, 0, '2 Rnd (5-5)'),\n",
       "  Text(8, 0, '1 Rnd (15)'),\n",
       "  Text(9, 0, '1 Rnd (10)'),\n",
       "  Text(10, 0, '1 Rnd (12)'),\n",
       "  Text(11, 0, '1 Rnd + OT (30-5)'),\n",
       "  Text(12, 0, '1 Rnd (18)'),\n",
       "  Text(13, 0, '1 Rnd + OT (15-3)'),\n",
       "  Text(14, 0, '1 Rnd + OT (27-3)'),\n",
       "  Text(15, 0, '1 Rnd + OT (30-3)'),\n",
       "  Text(16, 0, '1 Rnd + OT (31-5)'),\n",
       "  Text(17, 0, '1 Rnd + 2OT (24-3-3)'),\n",
       "  Text(18, 0, '1 Rnd (30)')])"
      ]
     },
     "execution_count": 65,
     "metadata": {},
     "output_type": "execute_result"
    },
    {
     "data": {
      "image/png": "[encoded data removed]",
      "text/plain": [
       "<Figure size 640x480 with 1 Axes>"
      ]
     },
     "metadata": {},
     "output_type": "display_data"
    }
   ],
   "source": [
    "# Si sale en la grafica es que al menos aparece una vez en el dataset\n",
    "fightFormat = df['FIGHT_TIME_FORMAT'].value_counts()\n",
    "\n",
    "plt.bar(fightFormat.index, fightFormat.values)\n",
    "plt.xlabel('Formato de pelea')\n",
    "plt.ylabel('Peleas con dicho formato')\n",
    "plt.title('Formato de peleas')\n",
    "plt.xticks(rotation=90)\n",
    "\n",
    "plt.show()"
   ]
  },
  {
   "cell_type": "code",
   "execution_count": 66,
   "metadata": {},
   "outputs": [
    {
     "data": {
      "text/plain": [
       "<BarContainer object of 10 artists>"
      ]
     },
     "execution_count": 66,
     "metadata": {},
     "output_type": "execute_result"
    },
    {
     "data": {
      "text/plain": [
       "([<matplotlib.axis.XTick at 0x186577b7610>,\n",
       "  <matplotlib.axis.XTick at 0x186577a9fd0>,\n",
       "  <matplotlib.axis.XTick at 0x1865a613450>,\n",
       "  <matplotlib.axis.XTick at 0x1865773c3d0>,\n",
       "  <matplotlib.axis.XTick at 0x1865773e0d0>,\n",
       "  <matplotlib.axis.XTick at 0x18657758350>,\n",
       "  <matplotlib.axis.XTick at 0x1865775a510>,\n",
       "  <matplotlib.axis.XTick at 0x18657748850>,\n",
       "  <matplotlib.axis.XTick at 0x1865774ab50>,\n",
       "  <matplotlib.axis.XTick at 0x186577aac10>],\n",
       " [Text(1718, 0, '1718'),\n",
       "  Text(1166, 0, '1166'),\n",
       "  Text(1143, 0, '1143'),\n",
       "  Text(1721, 0, '1721'),\n",
       "  Text(1154, 0, '1154'),\n",
       "  Text(1187, 0, '1187'),\n",
       "  Text(1172, 0, '1172'),\n",
       "  Text(1195, 0, '1195'),\n",
       "  Text(1268, 0, '1268'),\n",
       "  Text(1733, 0, '1733')])"
      ]
     },
     "execution_count": 66,
     "metadata": {},
     "output_type": "execute_result"
    },
    {
     "data": {
      "text/plain": [
       "Text(0.5, 0, 'Id de pelea')"
      ]
     },
     "execution_count": 66,
     "metadata": {},
     "output_type": "execute_result"
    },
    {
     "data": {
      "text/plain": [
       "Text(0, 0.5, 'Numero de peleas por evento')"
      ]
     },
     "execution_count": 66,
     "metadata": {},
     "output_type": "execute_result"
    },
    {
     "data": {
      "text/plain": [
       "Text(0.5, 1.0, 'Eventos con mas peleas')"
      ]
     },
     "execution_count": 66,
     "metadata": {},
     "output_type": "execute_result"
    },
    {
     "data": {
      "image/png": "[encoded data removed]",
      "text/plain": [
       "<Figure size 640x480 with 1 Axes>"
      ]
     },
     "metadata": {},
     "output_type": "display_data"
    }
   ],
   "source": [
    "#Esta grafica se ve mal en vscode, pero en jupyter se ve bien\n",
    "eventIdCount = df['EVENT_ID'].value_counts()\n",
    "\n",
    "top10EventIdCount = eventIdCount.head(10)\n",
    "\n",
    "plt.bar(top10EventIdCount.index, top10EventIdCount.values, width=0.4)\n",
    "\n",
    "plt.xticks(top10EventIdCount.index, rotation=90)\n",
    "plt.xlabel('Id de pelea')\n",
    "plt.ylabel('Numero de peleas por evento')\n",
    "plt.title('Eventos con mas peleas') \n",
    "plt.show()"
   ]
  }
 ],
 "metadata": {
  "kernelspec": {
   "display_name": "base",
   "language": "python",
   "name": "python3"
  },
  "language_info": {
   "codemirror_mode": {
    "name": "ipython",
    "version": 3
   },
   "file_extension": ".py",
   "mimetype": "text/x-python",
   "name": "python",
   "nbconvert_exporter": "python",
   "pygments_lexer": "ipython3",
   "version": "3.11.1"
  },
  "orig_nbformat": 4
 },
 "nbformat": 4,
 "nbformat_minor": 2
}
