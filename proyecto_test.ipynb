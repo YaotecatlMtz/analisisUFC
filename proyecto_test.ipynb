{
 "cells": [
  {
   "cell_type": "markdown",
   "metadata": {},
   "source": [
    "## Proyecto"
   ]
  },
  {
   "cell_type": "markdown",
   "metadata": {},
   "source": [
    "### Observaciones\n",
    "Hay 12 registros sin nombres de peleadores solo con 'v' y FIGHT_REFEREE Y FIGHT_DETAILS tienen un par de registros vacios/nulos\n",
    "\n",
    "### Unidades de observación \n",
    "Las peleas de los diferentes eventos realizados por UFC desde 1994 hasta 2021\n",
    "\n",
    "### Unidad de análisis\n",
    "Análitica y descriptiva principalmente, aunque también se busca ver las posibilidades de una unidad predictiva (digamos para crear un modelo predictivo de resultados)\n",
    "### Justificación de datos\n",
    "Nuestros datos longitudinales ya que tienen \"resultados repetitivos\" a lo largo del tiempo  \n",
    "También porque en varias ocasiones a los sujetos les aplican las mismas mediciones\n",
    "\n",
    "### clasificación de variables/columnas\n",
    "\n",
    "FIGHT_ID – Nominal  \n",
    "EVENT_ID – Nominal  \n",
    "FIGHT_NAME – Nominal  \n",
    "FIGHT_WEIGHTCLASS – Nominal  \n",
    "FIGHT_METHOD – Nominal  \n",
    "ROUND – Ordinal  \n",
    "TIME – Intervalo  \n",
    "FIGHT_TIME_FORMAT – Nominal  \n",
    "FIGHT_REFEREE – Nominal  \n",
    "FIGHT_DETAILS – Nominal  \n",
    "MINUTE - Razón  \n",
    "SECOND - Razón  \n",
    "FIGHT_STUB, EVENT_NAME, EVENT_DATE, EVENT_LOCATION, EVENT_STUB, DATE_YMD, URL – Nominal  \n",
    "FIGHT_WINNER – Nominal \n",
    "\n",
    "## Alta - Baja Cardinalidad (Nominales)\n",
    "\n",
    "FIGHT - Alta\n",
    "\n",
    "EVENT - Alta \n",
    "\n",
    "FightWeight - Baja\n",
    "\n",
    "FightMethod - Alta\n",
    "\n",
    "FightTimeFormat - Baja\n",
    "\n",
    "Fight_Referee - Baja\n",
    "\n",
    "Fight_Details - Alta\n",
    "\n",
    "Fight_Winner - Alta\n",
    "\n",
    "FIGHT_STUB EVENT_NAME, EVENT_DATE, EVENT_LOCATION, EVENT_STUB, DATE_YMD, URL – Alta \n",
    "\n",
    "FIGHT_WINNER – Alta\n",
    "\n",
    "## Categoricos balanceados\n",
    "Round\n",
    "\n",
    "## Categoricos no balanceados\n",
    "FIGHT_ID   \n",
    "EVENT_ID \n",
    "FIGHT_NAME\n",
    "FIGHT_WEIGHTCLASS \n",
    "FIGHT_METHOD  \n",
    "FIGHT_STUB, EVENT_NAME, EVENT_DATE, EVENT_LOCATION, EVENT_STUB, DATE_YMD, URL \n",
    "FIGHT_WINNER \n"
   ]
  },
  {
   "cell_type": "code",
   "execution_count": 52,
   "metadata": {},
   "outputs": [
    {
     "data": {
      "text/plain": [
       "'1.5.3'"
      ]
     },
     "execution_count": 52,
     "metadata": {},
     "output_type": "execute_result"
    }
   ],
   "source": [
    "import numpy as np\n",
    "import pandas as pd\n",
    "pd.__version__\n",
    "import matplotlib.pyplot as plt\n",
    "import seaborn as sns\n",
    "from ipywidgets import interact\n",
    "%matplotlib inline\n",
    "from IPython.core.interactiveshell import InteractiveShell\n",
    "InteractiveShell.ast_node_interactivity = \"all\""
   ]
  },
  {
   "cell_type": "code",
   "execution_count": 53,
   "metadata": {},
   "outputs": [],
   "source": [
    "df = pd.read_csv('ufc-fight-metadata.csv', encoding='utf-8')"
   ]
  },
  {
   "cell_type": "code",
   "execution_count": 54,
   "metadata": {},
   "outputs": [],
   "source": [
    "df_backup = df.copy()\n",
    "# df"
   ]
  },
  {
   "cell_type": "code",
   "execution_count": 55,
   "metadata": {},
   "outputs": [],
   "source": [
    "# Lista de nombres de columnas\n",
    "col = df.columns\n",
    "# col"
   ]
  },
  {
   "cell_type": "code",
   "execution_count": 56,
   "metadata": {},
   "outputs": [
    {
     "name": "stdout",
     "output_type": "stream",
     "text": [
      "<class 'pandas.core.frame.DataFrame'>\n",
      "RangeIndex: 6721 entries, 0 to 6720\n",
      "Data columns (total 20 columns):\n",
      " #   Column             Non-Null Count  Dtype \n",
      "---  ------             --------------  ----- \n",
      " 0   FIGHT_ID           6721 non-null   int64 \n",
      " 1   EVENT_ID           6721 non-null   int64 \n",
      " 2   FIGHT_NAME         6721 non-null   object\n",
      " 3   FIGHT_WEIGHTCLASS  6721 non-null   object\n",
      " 4   FIGHT_METHOD       6721 non-null   object\n",
      " 5   ROUND              6721 non-null   int64 \n",
      " 6   TIME               6721 non-null   object\n",
      " 7   FIGHT_TIME_FORMAT  6721 non-null   object\n",
      " 8   FIGHT_REFEREE      6689 non-null   object\n",
      " 9   FIGHT_DETAILS      6705 non-null   object\n",
      " 10  MINUTE             6721 non-null   int64 \n",
      " 11  SECOND             6721 non-null   int64 \n",
      " 12  FIGHT_STUB         6721 non-null   object\n",
      " 13  EVENT_NAME         6721 non-null   object\n",
      " 14  EVENT_DATE         6721 non-null   object\n",
      " 15  EVENT_LOCATION     6721 non-null   object\n",
      " 16  EVENT_STUB         6721 non-null   object\n",
      " 17  DATE_YMD           6721 non-null   object\n",
      " 18  URL                6721 non-null   object\n",
      " 19  FIGHT_WINNER       6709 non-null   object\n",
      "dtypes: int64(5), object(15)\n",
      "memory usage: 1.0+ MB\n"
     ]
    }
   ],
   "source": [
    "df.info()"
   ]
  },
  {
   "cell_type": "code",
   "execution_count": 57,
   "metadata": {},
   "outputs": [],
   "source": [
    "nominales = ['FIGHT_ID', 'EVENT_ID', 'FIGHT_NAME','FIGHT_WEIGHTCLASS','FIGHT_METHOD','FIGHT_TIME_FORMAT','FIGHT_REFEREE','FIGHT_DETAILS','FIGHT_STUB','EVENT_NAME','EVENT_DATE','EVENT_LOCATION','EVENT_STUB','DATE_YMD','URL','FIGHT_WINNER']\n",
    "ordinales = ['ROUND']  # Pudiera considerarse a karno ordinal pues de un médico a otro el número asignado no es lo mismo\n",
    "intervalo = ['TIME']\n",
    "razon = ['MINUTE', 'SECOND']"
   ]
  },
  {
   "cell_type": "code",
   "execution_count": 58,
   "metadata": {},
   "outputs": [],
   "source": [
    "for i in nominales:\n",
    "    df[i] = df[i].astype('category')\n",
    "    "
   ]
  },
  {
   "cell_type": "code",
   "execution_count": 59,
   "metadata": {},
   "outputs": [
    {
     "name": "stdout",
     "output_type": "stream",
     "text": [
      "FIGHT_ID\n"
     ]
    },
    {
     "data": {
      "text/plain": [
       "[9532, 9533, 9534, 9535, 9536, ..., 16249, 16250, 16251, 16252, 16253]\n",
       "Length: 6721\n",
       "Categories (6721, int64): [9532, 9533, 9534, 9535, ..., 16250, 16251, 16252, 16253]"
      ]
     },
     "execution_count": 59,
     "metadata": {},
     "output_type": "execute_result"
    },
    {
     "name": "stdout",
     "output_type": "stream",
     "text": [
      "\n",
      "EVENT_ID\n"
     ]
    },
    {
     "data": {
      "text/plain": [
       "[1131, 1132, 1133, 1134, 1135, ..., 1740, 1742, 1743, 1744, 1745]\n",
       "Length: 614\n",
       "Categories (614, int64): [1131, 1132, 1133, 1134, ..., 1742, 1743, 1744, 1745]"
      ]
     },
     "execution_count": 59,
     "metadata": {},
     "output_type": "execute_result"
    },
    {
     "name": "stdout",
     "output_type": "stream",
     "text": [
      "\n",
      "FIGHT_NAME\n"
     ]
    },
    {
     "data": {
      "text/plain": [
       "['Derrick Lewis v Chris Daukaus', 'Stephen Thompson v Belal Muhammad', 'Amanda Lemos v Angela Hill', 'Raphael Assuncao v Ricky Simon', 'Diego Ferreira v Mateusz Gamrot', ..., 'Andrei Arlovski v Marcos Rogerio de Lima', 'Joseph Holmes v Junyong Park', 'Chase Hooper v Steve Garcia', 'Cody Durden v Carlos Mota', 'Christian Rodriguez v Joshua Weems']\n",
       "Length: 6609\n",
       "Categories (6609, object): [' v ', 'AJ Fletcher v Ange Loosa', 'Aalon Cruz v Spike Carlyle', 'Aaron Phillips v Matt Hobar', ..., 'Zhang Weili v Rose Namajunas', 'Zubaira Tukhugov v Ernest Chavez', 'Zubaira Tukhugov v Lerone Murphy', 'Zubaira Tukhugov v Phillipe Nover']"
      ]
     },
     "execution_count": 59,
     "metadata": {},
     "output_type": "execute_result"
    },
    {
     "name": "stdout",
     "output_type": "stream",
     "text": [
      "\n",
      "FIGHT_WEIGHTCLASS\n"
     ]
    },
    {
     "data": {
      "text/plain": [
       "['Heavyweight', 'Welterweight', 'Women&#039;s Strawweight', 'Bantamweight', 'Lightweight', ..., 'UFC 5 Tournament Title', 'UFC 4 Tournament Title', 'UFC 3 Tournament Title', 'UFC 2 Tournament Title', 'UFC Interim Flyweight Title']\n",
       "Length: 109\n",
       "Categories (109, object): ['Bantamweight', 'Catch Weight', 'Featherweight', 'Flyweight', ..., 'Women&#039;s Bantamweight', 'Women&#039;s Featherweight', 'Women&#039;s Flyweight', 'Women&#039;s Strawweight']"
      ]
     },
     "execution_count": 59,
     "metadata": {},
     "output_type": "execute_result"
    },
    {
     "name": "stdout",
     "output_type": "stream",
     "text": [
      "\n",
      "FIGHT_METHOD\n"
     ]
    },
    {
     "data": {
      "text/plain": [
       "['KO/TKO', 'Decision - Unanimous', 'Decision - Split', 'Submission', 'Decision - Majority', 'Other', 'TKO - Doctor&#039;s Stoppage', 'Could Not Continue', 'DQ', 'Overturned']\n",
       "Categories (10, object): ['Could Not Continue', 'DQ', 'Decision - Majority', 'Decision - Split', ..., 'Other', 'Overturned', 'Submission', 'TKO - Doctor&#039;s Stoppage']"
      ]
     },
     "execution_count": 59,
     "metadata": {},
     "output_type": "execute_result"
    },
    {
     "name": "stdout",
     "output_type": "stream",
     "text": [
      "\n",
      "FIGHT_TIME_FORMAT\n"
     ]
    },
    {
     "data": {
      "text/plain": [
       "['5 Rnd (5-5-5-5-5)', '3 Rnd (5-5-5)', '3 Rnd + OT (5-5-5-5)', '2 Rnd (5-5)', '1 Rnd + 2OT (15-3-3)', ..., '1 Rnd + OT (30-3)', '1 Rnd (20)', '1 Rnd (30)', '1 Rnd + OT (31-5)', 'No Time Limit']\n",
       "Length: 19\n",
       "Categories (19, object): ['1 Rnd (10)', '1 Rnd (12)', '1 Rnd (15)', '1 Rnd (18)', ..., '3 Rnd (5-5-5)', '3 Rnd + OT (5-5-5-5)', '5 Rnd (5-5-5-5-5)', 'No Time Limit']"
      ]
     },
     "execution_count": 59,
     "metadata": {},
     "output_type": "execute_result"
    },
    {
     "name": "stdout",
     "output_type": "stream",
     "text": [
      "\n",
      "FIGHT_REFEREE\n"
     ]
    },
    {
     "data": {
      "text/plain": [
       "['Mark Smith', 'Herb Dean', 'Jason Herzog', 'Chris Tognoni', 'Marc Goddard', ..., 'Joe Hamilton', 'Taimak Guarriello', 'Lonnie Foster', 'Tyler Tomlinson', 'Loic Pora']\n",
       "Length: 209\n",
       "Categories (208, object): ['Adam Cheadle', 'Adam Martinez', 'Al Coley', 'Al Guinee', ..., 'Wernei Cardoso', 'Will Fisher', 'Wolf Menninger', 'Yves Lavigne']"
      ]
     },
     "execution_count": 59,
     "metadata": {},
     "output_type": "execute_result"
    },
    {
     "name": "stdout",
     "output_type": "stream",
     "text": [
      "\n",
      "FIGHT_DETAILS\n"
     ]
    },
    {
     "data": {
      "text/plain": [
       "['Punches to Head In Clinch', 'Decision', 'Decision - Split', 'Punch to Head At Distance', 'Knee to Body On Ground', ..., 'Neck Crank Standing Back Control', 'Kick to Body From Bottom', 'to   At Distance       Knee injury', 'to   At Distance', 'Anaconda Choke From Side Control']\n",
       "Length: 394\n",
       "Categories (393, object): ['Accidental Eye Poke by O&#039;Malley', 'Accidental Headbutt', 'Anaconda Choke After Drop to Guard', 'Anaconda Choke After Drop to Half Guard', ..., 'to   At Distance       Knee injury', 'to   At Distance       Shoulder Injury', 'to   From Mount       Technical Submission', 'to   On Ground']"
      ]
     },
     "execution_count": 59,
     "metadata": {},
     "output_type": "execute_result"
    },
    {
     "name": "stdout",
     "output_type": "stream",
     "text": [
      "\n",
      "FIGHT_STUB\n"
     ]
    },
    {
     "data": {
      "text/plain": [
       "['derrick-lewis-v-chris-daukaus', 'stephen-thompson-v-belal-muhammad', 'amanda-lemos-v-angela-hill', 'raphael-assuncao-v-ricky-simon', 'diego-ferreira-v-mateusz-gamrot', ..., 'andrei-arlovski-v-marcos-rogerio-de-lima', 'joseph-holmes-v-junyong-park', 'chase-hooper-v-steve-garcia', 'cody-durden-v-carlos-mota', 'christian-rodriguez-v-joshua-weems']\n",
       "Length: 6609\n",
       "Categories (6609, object): ['-v-', 'aalon-cruz-v-spike-carlyle', 'aaron-phillips-v-matt-hobar', 'aaron-riley-v-joe-brammer', ..., 'zhang-weili-v-rose-namajunas', 'zubaira-tukhugov-v-ernest-chavez', 'zubaira-tukhugov-v-lerone-murphy', 'zubaira-tukhugov-v-phillipe-nover']"
      ]
     },
     "execution_count": 59,
     "metadata": {},
     "output_type": "execute_result"
    },
    {
     "name": "stdout",
     "output_type": "stream",
     "text": [
      "\n",
      "EVENT_NAME\n"
     ]
    },
    {
     "data": {
      "text/plain": [
       "['UFC Fight Night: Lewis vs. Daukaus', 'UFC 269: Oliveira vs. Poirier', 'UFC Fight Night: Font vs. Aldo', 'UFC Fight Night: Vieira vs. Tate', 'UFC Fight Night: Holloway vs. Rodriguez', ..., 'UFC Fight Night: Sandhagen vs. Song', 'UFC Fight Night: Dern vs. Yan', 'UFC Fight Night: Grasso vs. Araujo', 'UFC 280: Oliveira vs. Makhachev', 'UFC Fight Night: Kattar vs. Allen']\n",
       "Length: 614\n",
       "Categories (614, object): ['Ortiz vs Shamrock 3: The Final Chapter', 'The Ultimate Fighter: A Champion Will Be Crow..., 'The Ultimate Fighter: A New World Champion Fi..., 'The Ultimate Fighter: American Top Team vs. B..., ..., 'UFC on FX: Johnson vs McCall', 'UFC on FX: Maynard vs Guida', 'UFC on FX: Sotiropoulos vs Pearson', 'UFC: Silva vs Irvin']"
      ]
     },
     "execution_count": 59,
     "metadata": {},
     "output_type": "execute_result"
    },
    {
     "name": "stdout",
     "output_type": "stream",
     "text": [
      "\n",
      "EVENT_DATE\n"
     ]
    },
    {
     "data": {
      "text/plain": [
       "['December 18, 2021', 'December 11, 2021', 'December 04, 2021', 'November 20, 2021', 'November 13, 2021', ..., 'September 17, 2022', 'October 01, 2022', 'October 15, 2022', 'October 22, 2022', 'October 29, 2022']\n",
       "Length: 609\n",
       "Categories (609, object): ['April 01, 2009', 'April 02, 2004', 'April 02, 2008', 'April 04, 2015', ..., 'September 27, 2014', 'September 28, 2001', 'September 28, 2019', 'September 29, 2012']"
      ]
     },
     "execution_count": 59,
     "metadata": {},
     "output_type": "execute_result"
    },
    {
     "name": "stdout",
     "output_type": "stream",
     "text": [
      "\n",
      "EVENT_LOCATION\n"
     ]
    },
    {
     "data": {
      "text/plain": [
       "['Las Vegas, Nevada, USA', 'New York City, New York, USA', 'Abu Dhabi, Abu Dhabi, United Arab Emirates', 'Houston, Texas, USA', 'Glendale, Arizona, USA', ..., 'Dothan, Alabama, USA', 'San Juan, Puerto Rico', 'Casper, Wyoming, USA', 'Elmont, New York, USA', 'Paris, Ile-de-France, France']\n",
       "Length: 168\n",
       "Categories (168, object): ['Abu Dhabi, Abu Dhabi, United Arab Emirates', 'Abu Dhabi, United Arab Emirates', 'Adelaide, South Australia, Australia', 'Albany, New York, USA', ..., 'Wichita, Kansas, USA', 'Winnipeg, Manitoba, Canada', 'Yokohama, Kanagawa, Japan', 'Zagreb, Croatia']"
      ]
     },
     "execution_count": 59,
     "metadata": {},
     "output_type": "execute_result"
    },
    {
     "name": "stdout",
     "output_type": "stream",
     "text": [
      "\n",
      "EVENT_STUB\n"
     ]
    },
    {
     "data": {
      "text/plain": [
       "['ufc-fight-night-lewis-vs-daukaus', 'ufc-269-oliveira-vs-poirier', 'ufc-fight-night-font-vs-aldo', 'ufc-fight-night-vieira-vs-tate', 'ufc-fight-night-holloway-vs-rodriguez', ..., 'ufc-fight-night-sandhagen-vs-song', 'ufc-fight-night-dern-vs-yan', 'ufc-fight-night-grasso-vs-araujo', 'ufc-280-oliveira-vs-makhachev', 'ufc-fight-night-kattar-vs-allen']\n",
       "Length: 614\n",
       "Categories (614, object): ['ortiz-vs-shamrock-3-the-final-chapter', 'the-ultimate-fighter-a-champion-will-be-crown..., 'the-ultimate-fighter-a-new-world-champion-fin..., 'the-ultimate-fighter-american-top-team-vs-bla..., ..., 'ufc-on-fx-johnson-vs-mccall', 'ufc-on-fx-maynard-vs-guida', 'ufc-on-fx-sotiropoulos-vs-pearson', 'ufc-silva-vs-irvin']"
      ]
     },
     "execution_count": 59,
     "metadata": {},
     "output_type": "execute_result"
    },
    {
     "name": "stdout",
     "output_type": "stream",
     "text": [
      "\n",
      "DATE_YMD\n"
     ]
    },
    {
     "data": {
      "text/plain": [
       "['18/12/2021', '11/12/2021', '04/12/2021', '20/11/2021', '13/11/2021', ..., '17/09/2022', '01/10/2022', '15/10/2022', '22/10/2022', '29/10/2022']\n",
       "Length: 609\n",
       "Categories (609, object): ['01/01/2011', '01/02/2014', '01/03/2008', '01/03/2014', ..., '31/07/2021', '31/08/2013', '31/08/2019', '31/10/2020']"
      ]
     },
     "execution_count": 59,
     "metadata": {},
     "output_type": "execute_result"
    },
    {
     "name": "stdout",
     "output_type": "stream",
     "text": [
      "\n",
      "URL\n"
     ]
    },
    {
     "data": {
      "text/plain": [
       "['https://vegas-odds.com/ufc-fight-statistics/u..., 'https://vegas-odds.com/ufc-fight-statistics/u..., 'https://vegas-odds.com/ufc-fight-statistics/u..., 'https://vegas-odds.com/ufc-fight-statistics/u..., 'https://vegas-odds.com/ufc-fight-statistics/u..., ..., 'https://vegas-odds.com/ufc-fight-statistics/u..., 'https://vegas-odds.com/ufc-fight-statistics/u..., 'https://vegas-odds.com/ufc-fight-statistics/u..., 'https://vegas-odds.com/ufc-fight-statistics/u..., 'https://vegas-odds.com/ufc-fight-statistics/u...]\n",
       "Length: 6721\n",
       "Categories (6721, object): ['https://vegas-odds.com/ufc-fight-statistics/o..., 'https://vegas-odds.com/ufc-fight-statistics/o..., 'https://vegas-odds.com/ufc-fight-statistics/o..., 'https://vegas-odds.com/ufc-fight-statistics/o..., ..., 'https://vegas-odds.com/ufc-fight-statistics/u..., 'https://vegas-odds.com/ufc-fight-statistics/u..., 'https://vegas-odds.com/ufc-fight-statistics/u..., 'https://vegas-odds.com/ufc-fight-statistics/u...]"
      ]
     },
     "execution_count": 59,
     "metadata": {},
     "output_type": "execute_result"
    },
    {
     "name": "stdout",
     "output_type": "stream",
     "text": [
      "\n",
      "FIGHT_WINNER\n"
     ]
    },
    {
     "data": {
      "text/plain": [
       "['Derrick Lewis', 'Belal Muhammad', 'Amanda Lemos', 'Ricky Simon', 'Mateusz Gamrot', ..., 'Pete Rodriguez', 'Caio Borralho', 'Waldo Cortes-Acosta', 'Tresean Gore', 'Christian Rodriguez']\n",
       "Length: 1588\n",
       "Categories (1587, object): ['Aaron Riley', 'Aaron Rosa', 'Aaron Simpson', 'Abdul Razak Alhassan', ..., 'Zhang Lipeng', 'Zhang Tiequan', 'Zhang Weili', 'Zubaira Tukhugov']"
      ]
     },
     "execution_count": 59,
     "metadata": {},
     "output_type": "execute_result"
    },
    {
     "name": "stdout",
     "output_type": "stream",
     "text": [
      "\n",
      "ROUND\n"
     ]
    },
    {
     "data": {
      "text/plain": [
       "array([1, 3, 2, 5, 4], dtype=int64)"
      ]
     },
     "execution_count": 59,
     "metadata": {},
     "output_type": "execute_result"
    },
    {
     "name": "stdout",
     "output_type": "stream",
     "text": [
      "\n"
     ]
    }
   ],
   "source": [
    "for i in nominales + ordinales:\n",
    "    print(i)\n",
    "    df[i].unique()\n",
    "    print()    "
   ]
  },
  {
   "cell_type": "code",
   "execution_count": 60,
   "metadata": {},
   "outputs": [
    {
     "name": "stdout",
     "output_type": "stream",
     "text": [
      "FIGHT_ID\n"
     ]
    },
    {
     "data": {
      "text/plain": [
       "9532     1\n",
       "13996    1\n",
       "14020    1\n",
       "14019    1\n",
       "14018    1\n",
       "        ..\n",
       "11769    1\n",
       "11768    1\n",
       "11767    1\n",
       "11766    1\n",
       "16253    1\n",
       "Name: FIGHT_ID, Length: 6721, dtype: int64"
      ]
     },
     "execution_count": 60,
     "metadata": {},
     "output_type": "execute_result"
    },
    {
     "name": "stdout",
     "output_type": "stream",
     "text": [
      "\n",
      "EVENT_ID\n"
     ]
    },
    {
     "data": {
      "text/plain": [
       "1166    15\n",
       "1195    15\n",
       "1718    15\n",
       "1223    14\n",
       "1154    14\n",
       "        ..\n",
       "1726     6\n",
       "1717     6\n",
       "1678     6\n",
       "1702     6\n",
       "1691     6\n",
       "Name: EVENT_ID, Length: 614, dtype: int64"
      ]
     },
     "execution_count": 60,
     "metadata": {},
     "output_type": "execute_result"
    },
    {
     "name": "stdout",
     "output_type": "stream",
     "text": [
      "\n",
      "FIGHT_NAME\n"
     ]
    },
    {
     "data": {
      "text/plain": [
       " v                                     12\n",
       "Dustin Poirier v Conor McGregor         3\n",
       "Tito Ortiz v Ken Shamrock               3\n",
       "Tyron Woodley v Stephen Thompson        2\n",
       "Frankie Edgar v Gray Maynard            2\n",
       "                                       ..\n",
       "Gabriel Benitez v Charlie Ontiveros     1\n",
       "Gabriel Benitez v Billy Quarantillo     1\n",
       "Gabriel Benitez v Andre Fili            1\n",
       "Gabe Green v Phil Rowe                  1\n",
       "Zubaira Tukhugov v Phillipe Nover       1\n",
       "Name: FIGHT_NAME, Length: 6609, dtype: int64"
      ]
     },
     "execution_count": 60,
     "metadata": {},
     "output_type": "execute_result"
    },
    {
     "name": "stdout",
     "output_type": "stream",
     "text": [
      "\n",
      "FIGHT_WEIGHTCLASS\n"
     ]
    },
    {
     "data": {
      "text/plain": [
       "Lightweight                                           1138\n",
       "Welterweight                                          1108\n",
       "Middleweight                                           859\n",
       "Featherweight                                          606\n",
       "Heavyweight                                            578\n",
       "                                                      ... \n",
       "Ultimate Fighter 15 Lightweight Tournament Title         1\n",
       "Ultimate Fighter 14 Bantamweight Tournament Title        1\n",
       "Ultimate Fighter 13 Welterweight Tournament Title        1\n",
       "Ultimate Fighter 12 Lightweight Tournament Title         1\n",
       "Ultimate Fighter 14 Featherweight Tournament Title       1\n",
       "Name: FIGHT_WEIGHTCLASS, Length: 109, dtype: int64"
      ]
     },
     "execution_count": 60,
     "metadata": {},
     "output_type": "execute_result"
    },
    {
     "name": "stdout",
     "output_type": "stream",
     "text": [
      "\n",
      "FIGHT_METHOD\n"
     ]
    },
    {
     "data": {
      "text/plain": [
       "Decision - Unanimous            2355\n",
       "KO/TKO                          2141\n",
       "Submission                      1331\n",
       "Decision - Split                 639\n",
       "TKO - Doctor&#039;s Stoppage      86\n",
       "Decision - Majority               80\n",
       "Overturned                        47\n",
       "Could Not Continue                20\n",
       "DQ                                19\n",
       "Other                              3\n",
       "Name: FIGHT_METHOD, dtype: int64"
      ]
     },
     "execution_count": 60,
     "metadata": {},
     "output_type": "execute_result"
    },
    {
     "name": "stdout",
     "output_type": "stream",
     "text": [
      "\n",
      "FIGHT_TIME_FORMAT\n"
     ]
    },
    {
     "data": {
      "text/plain": [
       "3 Rnd (5-5-5)           5908\n",
       "5 Rnd (5-5-5-5-5)        582\n",
       "1 Rnd + OT (12-3)         84\n",
       "No Time Limit             30\n",
       "3 Rnd + OT (5-5-5-5)      26\n",
       "1 Rnd (20)                23\n",
       "1 Rnd + 2OT (15-3-3)      20\n",
       "2 Rnd (5-5)               14\n",
       "1 Rnd (15)                10\n",
       "1 Rnd (10)                 7\n",
       "1 Rnd (12)                 5\n",
       "1 Rnd + OT (30-5)          3\n",
       "1 Rnd (18)                 2\n",
       "1 Rnd + OT (15-3)          2\n",
       "1 Rnd + OT (27-3)          1\n",
       "1 Rnd + OT (30-3)          1\n",
       "1 Rnd + OT (31-5)          1\n",
       "1 Rnd + 2OT (24-3-3)       1\n",
       "1 Rnd (30)                 1\n",
       "Name: FIGHT_TIME_FORMAT, dtype: int64"
      ]
     },
     "execution_count": 60,
     "metadata": {},
     "output_type": "execute_result"
    },
    {
     "name": "stdout",
     "output_type": "stream",
     "text": [
      "\n",
      "FIGHT_REFEREE\n"
     ]
    },
    {
     "data": {
      "text/plain": [
       "Herb Dean               999\n",
       "John McCarthy           650\n",
       "Dan Miragliotta         420\n",
       "Mario Yamasaki          392\n",
       "Marc Goddard            391\n",
       "                       ... \n",
       "Tom Jones                 1\n",
       "Ivan Svec                 1\n",
       "Steven Davis              1\n",
       "Brandon Pfannenstiel      1\n",
       "Gabe Barahona             1\n",
       "Name: FIGHT_REFEREE, Length: 208, dtype: int64"
      ]
     },
     "execution_count": 60,
     "metadata": {},
     "output_type": "execute_result"
    },
    {
     "name": "stdout",
     "output_type": "stream",
     "text": [
      "\n",
      "FIGHT_DETAILS\n"
     ]
    },
    {
     "data": {
      "text/plain": [
       "Decision                                                  2435\n",
       "Decision - Split                                           639\n",
       "Punch to Head At Distance                                  560\n",
       "Rear Naked Choke                                           486\n",
       "Punches to Head At Distance                                273\n",
       "                                                          ... \n",
       "Head Butt by Peralta                                         1\n",
       "Head Butt                                                    1\n",
       "Guillotine Choke From Mount       Technical Submission       1\n",
       "Guillotine Choke From Bottom Side Control                    1\n",
       "to   On Ground                                               1\n",
       "Name: FIGHT_DETAILS, Length: 393, dtype: int64"
      ]
     },
     "execution_count": 60,
     "metadata": {},
     "output_type": "execute_result"
    },
    {
     "name": "stdout",
     "output_type": "stream",
     "text": [
      "\n",
      "FIGHT_STUB\n"
     ]
    },
    {
     "data": {
      "text/plain": [
       "-v-                                    12\n",
       "dustin-poirier-v-conor-mcgregor         3\n",
       "tito-ortiz-v-ken-shamrock               3\n",
       "tyron-woodley-v-stephen-thompson        2\n",
       "matt-serra-v-chris-lytle                2\n",
       "                                       ..\n",
       "gabriel-benitez-v-charlie-ontiveros     1\n",
       "gabriel-benitez-v-billy-quarantillo     1\n",
       "gabriel-benitez-v-andre-fili            1\n",
       "gabe-green-v-phil-rowe                  1\n",
       "zubaira-tukhugov-v-phillipe-nover       1\n",
       "Name: FIGHT_STUB, Length: 6609, dtype: int64"
      ]
     },
     "execution_count": 60,
     "metadata": {},
     "output_type": "execute_result"
    },
    {
     "name": "stdout",
     "output_type": "stream",
     "text": [
      "\n",
      "EVENT_NAME\n"
     ]
    },
    {
     "data": {
      "text/plain": [
       "UFC 259: Blachowicz vs. Adesanya       15\n",
       "UFC 2: No Way Out                      15\n",
       "UFC Fight Night: Whittaker vs. Till    15\n",
       "UFC Fight Night: Smith vs. Spann       14\n",
       "UFC 263: Adesanya vs. Vettori 2        14\n",
       "                                       ..\n",
       "UFC 274: Oliveira vs. Gaethje           6\n",
       "UFC 25: Ultimate Japan 3                6\n",
       "UFC 37.5: As Real As It Gets            6\n",
       "UFC 3: The American Dream               6\n",
       "UFC - Ultimate Japan                    6\n",
       "Name: EVENT_NAME, Length: 614, dtype: int64"
      ]
     },
     "execution_count": 60,
     "metadata": {},
     "output_type": "execute_result"
    },
    {
     "name": "stdout",
     "output_type": "stream",
     "text": [
      "\n",
      "EVENT_DATE\n"
     ]
    },
    {
     "data": {
      "text/plain": [
       "November 19, 2016     25\n",
       "October 04, 2014      23\n",
       "May 31, 2014          22\n",
       "August 23, 2014       21\n",
       "June 28, 2014         21\n",
       "                      ..\n",
       "June 22, 2002          6\n",
       "September 09, 1994     6\n",
       "April 14, 2000         6\n",
       "May 07, 2022           6\n",
       "December 21, 1997      6\n",
       "Name: EVENT_DATE, Length: 609, dtype: int64"
      ]
     },
     "execution_count": 60,
     "metadata": {},
     "output_type": "execute_result"
    },
    {
     "name": "stdout",
     "output_type": "stream",
     "text": [
      "\n",
      "EVENT_LOCATION\n"
     ]
    },
    {
     "data": {
      "text/plain": [
       "Las Vegas, Nevada, USA                        2054\n",
       "Abu Dhabi, Abu Dhabi, United Arab Emirates     183\n",
       "London, England, United Kingdom                128\n",
       "Anaheim, California, USA                        95\n",
       "Houston, Texas, USA                             94\n",
       "                                              ... \n",
       "Bossier City, Louisiana, USA                     8\n",
       "Dothan, Alabama, USA                             8\n",
       "Miami, Florida, USA                              8\n",
       "Chiba, Japan                                     7\n",
       "Yokohama, Kanagawa, Japan                        6\n",
       "Name: EVENT_LOCATION, Length: 168, dtype: int64"
      ]
     },
     "execution_count": 60,
     "metadata": {},
     "output_type": "execute_result"
    },
    {
     "name": "stdout",
     "output_type": "stream",
     "text": [
      "\n",
      "EVENT_STUB\n"
     ]
    },
    {
     "data": {
      "text/plain": [
       "ufc-fight-night-whittaker-vs-till     15\n",
       "ufc-259-blachowicz-vs-adesanya        15\n",
       "ufc-2-no-way-out                      15\n",
       "ufc-fight-night-poirier-vs-gaethje    14\n",
       "ufc-fight-night-marreta-vs-anders     14\n",
       "                                      ..\n",
       "ufc-274-oliveira-vs-gaethje            6\n",
       "ufc-3-the-american-dream               6\n",
       "ufc---ultimate-japan                   6\n",
       "ufc-25-ultimate-japan-3                6\n",
       "ufc-375-as-real-as-it-gets             6\n",
       "Name: EVENT_STUB, Length: 614, dtype: int64"
      ]
     },
     "execution_count": 60,
     "metadata": {},
     "output_type": "execute_result"
    },
    {
     "name": "stdout",
     "output_type": "stream",
     "text": [
      "\n",
      "DATE_YMD\n"
     ]
    },
    {
     "data": {
      "text/plain": [
       "19/11/2016    25\n",
       "04/10/2014    23\n",
       "31/05/2014    22\n",
       "28/06/2014    21\n",
       "23/08/2014    21\n",
       "              ..\n",
       "14/04/2000     6\n",
       "21/12/1997     6\n",
       "09/09/1994     6\n",
       "07/05/2022     6\n",
       "22/06/2002     6\n",
       "Name: DATE_YMD, Length: 609, dtype: int64"
      ]
     },
     "execution_count": 60,
     "metadata": {},
     "output_type": "execute_result"
    },
    {
     "name": "stdout",
     "output_type": "stream",
     "text": [
      "\n",
      "URL\n"
     ]
    },
    {
     "data": {
      "text/plain": [
       "https://vegas-odds.com/ufc-fight-statistics/ortiz-vs-shamrock-3-the-final-chapter-1642/jason-macdonald-v-ed-herman-15325/    1\n",
       "https://vegas-odds.com/ufc-fight-statistics/ufc-fight-night-holloway-vs-rodriguez-1135/cortney-casey-v-liana-jojua-9591/     1\n",
       "https://vegas-odds.com/ufc-fight-statistics/ufc-fight-night-holm-vs-correia-1319/dong-hyun-kim-v-colby-covington-11757/      1\n",
       "https://vegas-odds.com/ufc-fight-statistics/ufc-fight-night-holm-vs-correia-1319/cyril-asker-v-walt-harris-11760/            1\n",
       "https://vegas-odds.com/ufc-fight-statistics/ufc-fight-night-holm-vs-correia-1319/andrei-arlovski-v-marcin-tybura-11756/      1\n",
       "                                                                                                                            ..\n",
       "https://vegas-odds.com/ufc-fight-statistics/ufc-258-usman-vs-burns-1169/maki-pitolo-v-julian-marquez-9988/                   1\n",
       "https://vegas-odds.com/ufc-fight-statistics/ufc-258-usman-vs-burns-1169/kelvin-gastelum-v-ian-heinisch-9986/                 1\n",
       "https://vegas-odds.com/ufc-fight-statistics/ufc-258-usman-vs-burns-1169/kamaru-usman-v-gilbert-burns-9984/                   1\n",
       "https://vegas-odds.com/ufc-fight-statistics/ufc-258-usman-vs-burns-1169/gabe-green-v-phil-rowe-9993/                         1\n",
       "https://vegas-odds.com/ufc-fight-statistics/ufc-silva-vs-irvin-1607/tim-credeur-v-cale-yarbrough-15003/                      1\n",
       "Name: URL, Length: 6721, dtype: int64"
      ]
     },
     "execution_count": 60,
     "metadata": {},
     "output_type": "execute_result"
    },
    {
     "name": "stdout",
     "output_type": "stream",
     "text": [
      "\n",
      "FIGHT_WINNER\n"
     ]
    },
    {
     "data": {
      "text/plain": [
       "Jim Miller          23\n",
       "Donald Cerrone      23\n",
       "Charles Oliveira    22\n",
       "Demian Maia         22\n",
       "Jon Jones           21\n",
       "                    ..\n",
       "Mads Burnell         1\n",
       "Darrell Horcher      1\n",
       "Jarjis Danho         1\n",
       "Jared Vanderaa       1\n",
       "Josh Sampo           1\n",
       "Name: FIGHT_WINNER, Length: 1587, dtype: int64"
      ]
     },
     "execution_count": 60,
     "metadata": {},
     "output_type": "execute_result"
    },
    {
     "name": "stdout",
     "output_type": "stream",
     "text": [
      "\n",
      "ROUND\n"
     ]
    },
    {
     "data": {
      "text/plain": [
       "3    3373\n",
       "1    1953\n",
       "2    1117\n",
       "5     239\n",
       "4      39\n",
       "Name: ROUND, dtype: int64"
      ]
     },
     "execution_count": 60,
     "metadata": {},
     "output_type": "execute_result"
    },
    {
     "name": "stdout",
     "output_type": "stream",
     "text": [
      "\n"
     ]
    }
   ],
   "source": [
    "for i in nominales + ordinales:\n",
    "    print(i)\n",
    "    df[i].value_counts()\n",
    "    print()"
   ]
  },
  {
   "cell_type": "markdown",
   "metadata": {},
   "source": [
    "Esto lo hizo jp |\n",
    "                |\n",
    "                |\n",
    "                v"
   ]
  },
  {
   "cell_type": "code",
   "execution_count": null,
   "metadata": {},
   "outputs": [
    {
     "name": "stdout",
     "output_type": "stream",
     "text": [
      "Moda de la columna FIGHT_ID: 9532\n",
      "Moda de la columna EVENT_ID: 1166\n",
      "Moda de la columna FIGHT_NAME:  v \n",
      "Moda de la columna FIGHT_WEIGHTCLASS: Lightweight\n",
      "Moda de la columna FIGHT_METHOD: Decision - Unanimous\n",
      "Moda de la columna FIGHT_TIME_FORMAT: 3 Rnd (5-5-5)\n",
      "Moda de la columna FIGHT_REFEREE: Herb Dean\n",
      "Moda de la columna FIGHT_DETAILS: Decision\n",
      "Moda de la columna FIGHT_STUB: -v-\n",
      "Moda de la columna EVENT_NAME: UFC 259: Blachowicz vs. Adesanya\n",
      "Moda de la columna EVENT_DATE: November 19, 2016\n",
      "Moda de la columna EVENT_LOCATION: Las Vegas, Nevada, USA\n",
      "Moda de la columna EVENT_STUB: ufc-2-no-way-out\n",
      "Moda de la columna DATE_YMD: 19/11/2016\n",
      "Moda de la columna URL: https://vegas-odds.com/ufc-fight-statistics/ortiz-vs-shamrock-3-the-final-chapter-1642/jason-macdonald-v-ed-herman-15325/\n",
      "Moda de la columna FIGHT_WINNER: Donald Cerrone\n"
     ]
    }
   ],
   "source": [
    "\n",
    "for i in nominales:\n",
    "    moda = df[i].mode()[0]\n",
    "    print(f\"Moda de la columna {i}: {moda}\")"
   ]
  },
  {
   "cell_type": "markdown",
   "metadata": {},
   "source": [
    "Esto lo hizo jp |\n",
    "                |\n",
    "                |\n",
    "                v"
   ]
  },
  {
   "cell_type": "code",
   "execution_count": null,
   "metadata": {},
   "outputs": [
    {
     "name": "stdout",
     "output_type": "stream",
     "text": [
      "3\n",
      "3.0\n"
     ]
    }
   ],
   "source": [
    "moda = df['ROUND'].mode().iloc[0]\n",
    "median = df['ROUND'].median()\n",
    "print(moda)\n",
    "print(median)\n"
   ]
  },
  {
   "cell_type": "markdown",
   "metadata": {},
   "source": [
    "Esto lo hizo jp |\n",
    "                |\n",
    "                |\n",
    "                v"
   ]
  },
  {
   "cell_type": "code",
   "execution_count": null,
   "metadata": {},
   "outputs": [
    {
     "name": "stdout",
     "output_type": "stream",
     "text": [
      "MINUTE\n",
      "Media : 4.0\n",
      "Mode :  5\n",
      "D.E :  1.8356437419917435\n",
      "First Quartile (Q1): 2.0\n",
      "Third Quartile (Q3): 5.0\n",
      "Interquartile Range (IQR): 3.0\n",
      "SECOND\n",
      "Media : 3.0\n",
      "Mode :  0\n",
      "D.E :  19.732636832844396\n",
      "First Quartile (Q1): 0.0\n",
      "Third Quartile (Q3): 32.0\n",
      "Interquartile Range (IQR): 32.0\n"
     ]
    }
   ],
   "source": [
    "for i in razon: \n",
    "    print(i)\n",
    "    median = df[i].median()\n",
    "    mode = df[i].mode().iloc[0]\n",
    "    de = df[i].std()\n",
    "    q1 = np.percentile(df[i], 25)\n",
    "    q3 = np.percentile(df[i], 75)\n",
    "    iqr = q3 - q1\n",
    "    print(\"Media :\", median)\n",
    "    print(\"Mode : \", mode)\n",
    "    print(\"D.E : \", de)\n",
    "    print(\"First Quartile (Q1):\", q1)\n",
    "    print(\"Third Quartile (Q3):\", q3)\n",
    "    print(\"Interquartile Range (IQR):\", iqr)\n",
    "\n",
    "\n",
    "\n"
   ]
  },
  {
   "cell_type": "code",
   "execution_count": null,
   "metadata": {},
   "outputs": [
    {
     "data": {
      "text/plain": [
       "FIGHT_ID\n",
       "9532     0.000149\n",
       "13996    0.000149\n",
       "14020    0.000149\n",
       "14019    0.000149\n",
       "14018    0.000149\n",
       "           ...   \n",
       "11769    0.000149\n",
       "11768    0.000149\n",
       "11767    0.000149\n",
       "11766    0.000149\n",
       "16253    0.000149\n",
       "Name: proportion, Length: 6721, dtype: float64"
      ]
     },
     "execution_count": 11,
     "metadata": {},
     "output_type": "execute_result"
    }
   ],
   "source": [
    "prop_cel = df.FIGHT_ID.value_counts(normalize=True)\n",
    "prop_cel"
   ]
  },
  {
   "cell_type": "markdown",
   "metadata": {},
   "source": [
    "Esto lo hizo jp |\n",
    "                |\n",
    "                |\n",
    "                v"
   ]
  },
  {
   "cell_type": "code",
   "execution_count": 62,
   "metadata": {},
   "outputs": [
    {
     "name": "stdout",
     "output_type": "stream",
     "text": [
      "Median: 287.0\n",
      "Mode: 0    300\n",
      "Name: TIME, dtype: int64\n",
      "Standard Deviation: 99.15009880932762\n",
      "Interquartilic Range:  152.0\n"
     ]
    }
   ],
   "source": [
    "df.TIME = df['TIME'].str.split(':').apply(lambda x: int(x[0]) * 60 + int(x[1]))\n",
    "# Calcula la mediana, moda y desviación estándar\n",
    "median = df['TIME'].median()\n",
    "mode = df['TIME'].mode()\n",
    "std = df['TIME'].std()\n",
    "\n",
    "# Calcula los cuartiles\n",
    "q1 = df['TIME'].quantile(0.25)\n",
    "q3 = df['TIME'].quantile(0.75)\n",
    "iqr = q3 - q1\n",
    "print(\"Median:\", median)\n",
    "print(\"Mode:\", mode)\n",
    "print(\"Standard Deviation:\", std)\n",
    "print(\"Interquartilic Range: \", iqr)\n",
    "\n"
   ]
  },
  {
   "cell_type": "markdown",
   "metadata": {},
   "source": [
    "Estadistica descriptiva de las columnas (Algunas omitidas como URL y STUBS)\n",
    "\n",
    "FIGHT_ID - Moda: 9532  \n",
    "\n",
    "EVENT_ID – Moda: 1166 \n",
    "\n",
    "FIGHT_NAME  -Moda: JIM MILLER\n",
    "\n",
    "FIGHT_WEIGHTCLASS Moda: LIGHTWEIGHT\n",
    "\n",
    "FIGHT_METHOD –Moda: DECISION UNANIMOUS\n",
    "\n",
    "ROUND – Media: 3 - Mediana: 3\n",
    "\n",
    "TIME – Media: 287 - Moda: 300 - DE: 99.15009 - Rango Interquartilico: 152\n",
    "\n",
    "FIGHT_TIME_FORMAT -Moda: 3RND (5-5-5)  \n",
    "\n",
    "FIGHT_REFEREE – Moda: HERB DEAN\n",
    "\n",
    "FIGHT_DETAILS – Moda: DECISION\n",
    "\n",
    "MINUTE - Media: 4 - Moda: 5 - D.E: 1.83564 - RANGO INTERQUARTILICO: 32\n",
    "\n",
    "SECOND - Media: 3 - Moda: no - D.E: 19.7326 - Rango: 32\n",
    "\n",
    "EVENT_NAME - Moda: UFC 259: Blachowicz vs. Adesanya\n",
    "\n",
    "EVENT_DATE - Moda: November 19,2016\n",
    "\n",
    "EVENT_LOCATION - Moda: Las Vegas, Nevada, USA\n",
    "\n",
    "DATE_YMD - Moda: 19/11/2016    \n",
    "\n",
    "FIGHT_WINNER – Moda: DONALD CERRONE"
   ]
  },
  {
   "cell_type": "code",
   "execution_count": null,
   "metadata": {},
   "outputs": [
    {
     "data": {
      "text/plain": [
       "(CategoricalIndex([ 9532, 13996, 14020, 14019, 14018, 14017, 14016, 14015,\n",
       "                   14014, 14013,\n",
       "                   ...\n",
       "                   11774, 11773, 11772, 11771, 11770, 11769, 11768, 11767,\n",
       "                   11766, 16253],\n",
       "                  categories=[9532, 9533, 9534, 9535, ..., 16250, 16251, 16252, 16253], ordered=False, dtype='category', name='FIGHT_ID', length=6721),\n",
       " array([1, 1, 1, ..., 1, 1, 1], dtype=int64))"
      ]
     },
     "execution_count": 12,
     "metadata": {},
     "output_type": "execute_result"
    }
   ],
   "source": [
    "\n",
    "#Innecesaria estas contando los id que ya son unicos\n",
    "freq = df.FIGHT_ID.value_counts()\n",
    "freq.index, freq.values"
   ]
  },
  {
   "cell_type": "code",
   "execution_count": null,
   "metadata": {},
   "outputs": [
    {
     "data": {
      "text/plain": [
       "(array([  12.,    0., 3126.,    0.,   14.,    0.,   11.,    0.,   15.,\n",
       "          18.]),\n",
       " array([0. , 0.5, 1. , 1.5, 2. , 2.5, 3. , 3.5, 4. , 4.5, 5. ]),\n",
       " <BarContainer object of 10 artists>)"
      ]
     },
     "execution_count": 16,
     "metadata": {},
     "output_type": "execute_result"
    },
    {
     "data": {
      "text/plain": [
       "Text(0.5, 0, 'Duración de la Pelea (minutos)')"
      ]
     },
     "execution_count": 16,
     "metadata": {},
     "output_type": "execute_result"
    },
    {
     "data": {
      "text/plain": [
       "Text(0, 0.5, 'Número de Peleas')"
      ]
     },
     "execution_count": 16,
     "metadata": {},
     "output_type": "execute_result"
    },
    {
     "data": {
      "text/plain": [
       "Text(0.5, 1.0, 'Histograma de Duración de Peleas de UFC')"
      ]
     },
     "execution_count": 16,
     "metadata": {},
     "output_type": "execute_result"
    },
    {
     "data": {
      "image/png": "[encoded data removed]",
      "text/plain": [
       "<Figure size 640x480 with 1 Axes>"
      ]
     },
     "metadata": {},
     "output_type": "display_data"
    }
   ],
   "source": [
    "#Histograma de duracion de peleas solo que no se pq no sale en orden\n",
    "plt.hist(df['TIME'], bins=10, range=(0, 5), edgecolor='k')\n",
    "plt.xlabel('Duración de la Pelea (minutos)')\n",
    "plt.ylabel('Número de Peleas')\n",
    "plt.title('Histograma de Duración de Peleas de UFC')\n",
    "plt.grid(True)\n",
    "\n",
    "# Mostrar el histograma\n",
    "plt.show()"
   ]
  },
  {
   "cell_type": "code",
   "execution_count": null,
   "metadata": {},
   "outputs": [],
   "source": []
  },
  {
   "cell_type": "markdown",
   "metadata": {},
   "source": [
    "### Histogramas"
   ]
  },
  {
   "cell_type": "code",
   "execution_count": null,
   "metadata": {},
   "outputs": [
    {
     "data": {
      "text/plain": [
       "<Axes: xlabel='ROUND', ylabel='Count'>"
      ]
     },
     "execution_count": 12,
     "metadata": {},
     "output_type": "execute_result"
    },
    {
     "data": {
      "text/plain": [
       "[]"
      ]
     },
     "execution_count": 12,
     "metadata": {},
     "output_type": "execute_result"
    },
    {
     "data": {
      "image/png": "[encoded data removed]",
      "text/plain": [
       "<Figure size 640x480 with 1 Axes>"
      ]
     },
     "metadata": {},
     "output_type": "display_data"
    }
   ],
   "source": [
    "#Esta muy sesgada la informacion pq combina peleas de 3 y 5 rounds\n",
    "#podriamos separar la informacion y hacer dos graficas \n",
    "sns.histplot(data=df, x='ROUND')\n",
    "plt.plot()"
   ]
  }
 ],
 "metadata": {
  "kernelspec": {
   "display_name": "base",
   "language": "python",
   "name": "python3"
  },
  "language_info": {
   "codemirror_mode": {
    "name": "ipython",
    "version": 3
   },
   "file_extension": ".py",
   "mimetype": "text/x-python",
   "name": "python",
   "nbconvert_exporter": "python",
   "pygments_lexer": "ipython3",
   "version": "3.11.4"
  },
  "orig_nbformat": 4
 },
 "nbformat": 4,
 "nbformat_minor": 2
}
